{
  "nbformat": 4,
  "nbformat_minor": 0,
  "metadata": {
    "colab": {
      "name": "CE888 police.ipynb",
      "provenance": [],
      "collapsed_sections": []
    },
    "kernelspec": {
      "name": "python3",
      "display_name": "Python 3"
    }
  },
  "cells": [
    {
      "cell_type": "code",
      "metadata": {
        "id": "rJLZhKg00Y9T"
      },
      "source": [
        "import numpy as np\r\n",
        "import pandas as pd\r\n",
        "import glob\r\n"
      ],
      "execution_count": 3,
      "outputs": []
    },
    {
      "cell_type": "markdown",
      "metadata": {
        "id": "1wpAZJK0g5at"
      },
      "source": [
        "The commented out cells where me importing the data and concating it then downloading it for later use."
      ]
    },
    {
      "cell_type": "code",
      "metadata": {
        "colab": {
          "base_uri": "https://localhost:8080/"
        },
        "id": "NzAsE0C3zHmO",
        "outputId": "4dbed8f9-58cc-49c8-d9d4-701f0e320a82"
      },
      "source": [
        "!git clone https://github.com/Caramel96/Samuel_BuckbyCE888.git"
      ],
      "execution_count": 4,
      "outputs": [
        {
          "output_type": "stream",
          "text": [
            "fatal: destination path 'Samuel_BuckbyCE888' already exists and is not an empty directory.\n"
          ],
          "name": "stdout"
        }
      ]
    },
    {
      "cell_type": "markdown",
      "metadata": {
        "id": "u0-HNjImyoX_"
      },
      "source": [
        "# Importing the data"
      ]
    },
    {
      "cell_type": "code",
      "metadata": {
        "id": "-GNwi_SGCXFe"
      },
      "source": [
        "\r\n",
        "local_path = '/content/Samuel_BuckbyCE888/Assigment_1/data/street crime'\r\n",
        "all_files = glob.glob(local_path + \"/*.csv\")\r\n",
        "li = []\r\n",
        "for filename in all_files:\r\n",
        "    df = pd.read_csv(filename)\r\n",
        "    li.append(df)\r\n",
        "street_crime = pd.concat(li, axis=0, ignore_index=True) \r\n",
        "\r\n",
        "local_path2 = '/content/Samuel_BuckbyCE888/Assigment_1/data/Stop_and_search_LC'\r\n",
        "all_files2 = glob.glob(local_path2 + \"/*.csv\")\r\n",
        "li2 = []\r\n",
        "for filename2 in all_files2:\r\n",
        "    df2 = pd.read_csv(filename2)\r\n",
        "    li2.append(df2)\r\n",
        "stop_search_lc = pd.concat(li2, axis=0, ignore_index=True)\r\n",
        "\r\n",
        "local_path3 = '/content/Samuel_BuckbyCE888/Assigment_1/data/Stop_and_search_Met'\r\n",
        "all_files3 = glob.glob(local_path3 + \"/*.csv\")\r\n",
        "li3 = []\r\n",
        "for filename3 in all_files3:\r\n",
        "    df3 = pd.read_csv(filename3)\r\n",
        "    li3.append(df3)\r\n",
        "stop_search_met = pd.concat(li3, axis=0, ignore_index=True)\r\n",
        "\r\n",
        "local_path4 = '/content/Samuel_BuckbyCE888/Assigment_1/data/Stop_Search_Man'\r\n",
        "all_files4 = glob.glob(local_path4 + \"/*.csv\")\r\n",
        "li4 = []\r\n",
        "for filename4 in all_files4:\r\n",
        "    df4 = pd.read_csv(filename4)\r\n",
        "    li4.append(df4)\r\n",
        "stop_search_man = pd.concat(li4, axis=0, ignore_index=True)\r\n",
        "\r\n",
        "stop_search_lc['Force'] = 'Leicester'\r\n",
        "stop_search_met['Force'] = 'Metropolitan'\r\n",
        "stop_search_man['Force'] = 'Manchester'\r\n",
        "\r\n",
        "stop_search = pd.concat([stop_search_lc,stop_search_met, stop_search_man])\r\n",
        "confidence_police = pd.read_csv('/content/Samuel_BuckbyCE888/Assigment_1/data/confidence-in-the-local-police.csv', encoding= 'unicode_escape' )\r\n",
        "arrests_data =  pd.read_csv('/content/Samuel_BuckbyCE888/Assigment_1/data/arrests-data-march-2013-to-march-2019-2.csv')\r\n",
        "confidence_police.drop(labels=['Geography code','Geography_type', 'Ethnicity_type', 'Socio-economic classification', 'Household income', 'Time_type', 'Value_type'], axis=1, inplace=True)\r\n",
        "stop_search_ethnicity = pd.read_csv('/content/Samuel_BuckbyCE888/Assigment_1/data/stop-and-search.csv')"
      ],
      "execution_count": 5,
      "outputs": []
    },
    {
      "cell_type": "markdown",
      "metadata": {
        "id": "MZhZaOGFyud-"
      },
      "source": [
        "#Pre processing the data "
      ]
    },
    {
      "cell_type": "code",
      "metadata": {
        "id": "_mLSCaeMkJqN"
      },
      "source": [
        "stop_search['Date'] = pd.to_datetime(stop_search['Date'])\r\n",
        "stop_search['Date'] = stop_search['Date'].dt.date\r\n",
        "stop_search['Date'] = pd.to_datetime(stop_search['Date'])"
      ],
      "execution_count": 6,
      "outputs": []
    },
    {
      "cell_type": "code",
      "metadata": {
        "id": "GRXMPfOeq_-5"
      },
      "source": [
        "confidence_police2 = confidence_police\r\n",
        "confidence_police2['Value'] = confidence_police2['Value'].str.strip().map(lambda x: np.nan if x==\"ALL\" else x)\r\n",
        "confidence_police2['Value'] = confidence_police2['Value'].str.strip().map(lambda x: np.nan if x==\"?\" else x)\r\n",
        "confidence_police2.replace('All',np.NaN)\r\n",
        "confidence_police2['Value'] = confidence_police2['Value'].astype(float)\r\n"
      ],
      "execution_count": 7,
      "outputs": []
    },
    {
      "cell_type": "code",
      "metadata": {
        "colab": {
          "base_uri": "https://localhost:8080/",
          "height": 336
        },
        "id": "4-JE7zv2eL9X",
        "outputId": "02f45087-9727-4f04-cb46-12393a25ff3b"
      },
      "source": [
        "stop_search.head()\r\n"
      ],
      "execution_count": 8,
      "outputs": [
        {
          "output_type": "execute_result",
          "data": {
            "text/html": [
              "<div>\n",
              "<style scoped>\n",
              "    .dataframe tbody tr th:only-of-type {\n",
              "        vertical-align: middle;\n",
              "    }\n",
              "\n",
              "    .dataframe tbody tr th {\n",
              "        vertical-align: top;\n",
              "    }\n",
              "\n",
              "    .dataframe thead th {\n",
              "        text-align: right;\n",
              "    }\n",
              "</style>\n",
              "<table border=\"1\" class=\"dataframe\">\n",
              "  <thead>\n",
              "    <tr style=\"text-align: right;\">\n",
              "      <th></th>\n",
              "      <th>Type</th>\n",
              "      <th>Date</th>\n",
              "      <th>Part of a policing operation</th>\n",
              "      <th>Policing operation</th>\n",
              "      <th>Latitude</th>\n",
              "      <th>Longitude</th>\n",
              "      <th>Gender</th>\n",
              "      <th>Age range</th>\n",
              "      <th>Self-defined ethnicity</th>\n",
              "      <th>Officer-defined ethnicity</th>\n",
              "      <th>Legislation</th>\n",
              "      <th>Object of search</th>\n",
              "      <th>Outcome</th>\n",
              "      <th>Outcome linked to object of search</th>\n",
              "      <th>Removal of more than just outer clothing</th>\n",
              "      <th>Force</th>\n",
              "    </tr>\n",
              "  </thead>\n",
              "  <tbody>\n",
              "    <tr>\n",
              "      <th>0</th>\n",
              "      <td>Person search</td>\n",
              "      <td>2020-04-30</td>\n",
              "      <td>NaN</td>\n",
              "      <td>NaN</td>\n",
              "      <td>52.545480</td>\n",
              "      <td>-1.391003</td>\n",
              "      <td>Female</td>\n",
              "      <td>over 34</td>\n",
              "      <td>Other ethnic group - Not stated</td>\n",
              "      <td>White</td>\n",
              "      <td>Misuse of Drugs Act 1971 (section 23)</td>\n",
              "      <td>Controlled drugs</td>\n",
              "      <td>A no further action disposal</td>\n",
              "      <td>NaN</td>\n",
              "      <td>False</td>\n",
              "      <td>Leicester</td>\n",
              "    </tr>\n",
              "    <tr>\n",
              "      <th>1</th>\n",
              "      <td>Person and Vehicle search</td>\n",
              "      <td>2020-05-01</td>\n",
              "      <td>NaN</td>\n",
              "      <td>NaN</td>\n",
              "      <td>52.543504</td>\n",
              "      <td>-1.387963</td>\n",
              "      <td>Female</td>\n",
              "      <td>25-34</td>\n",
              "      <td>Other ethnic group - Not stated</td>\n",
              "      <td>White</td>\n",
              "      <td>Misuse of Drugs Act 1971 (section 23)</td>\n",
              "      <td>Controlled drugs</td>\n",
              "      <td>A no further action disposal</td>\n",
              "      <td>NaN</td>\n",
              "      <td>False</td>\n",
              "      <td>Leicester</td>\n",
              "    </tr>\n",
              "    <tr>\n",
              "      <th>2</th>\n",
              "      <td>Person and Vehicle search</td>\n",
              "      <td>2020-05-01</td>\n",
              "      <td>NaN</td>\n",
              "      <td>NaN</td>\n",
              "      <td>52.543992</td>\n",
              "      <td>-1.390109</td>\n",
              "      <td>Male</td>\n",
              "      <td>over 34</td>\n",
              "      <td>White - English/Welsh/Scottish/Northern Irish/...</td>\n",
              "      <td>White</td>\n",
              "      <td>Misuse of Drugs Act 1971 (section 23)</td>\n",
              "      <td>Controlled drugs</td>\n",
              "      <td>A no further action disposal</td>\n",
              "      <td>NaN</td>\n",
              "      <td>False</td>\n",
              "      <td>Leicester</td>\n",
              "    </tr>\n",
              "    <tr>\n",
              "      <th>3</th>\n",
              "      <td>Person search</td>\n",
              "      <td>2020-05-01</td>\n",
              "      <td>NaN</td>\n",
              "      <td>NaN</td>\n",
              "      <td>52.770012</td>\n",
              "      <td>-1.203193</td>\n",
              "      <td>Female</td>\n",
              "      <td>25-34</td>\n",
              "      <td>White - English/Welsh/Scottish/Northern Irish/...</td>\n",
              "      <td>White</td>\n",
              "      <td>Misuse of Drugs Act 1971 (section 23)</td>\n",
              "      <td>Controlled drugs</td>\n",
              "      <td>A no further action disposal</td>\n",
              "      <td>NaN</td>\n",
              "      <td>False</td>\n",
              "      <td>Leicester</td>\n",
              "    </tr>\n",
              "    <tr>\n",
              "      <th>4</th>\n",
              "      <td>Person search</td>\n",
              "      <td>2020-05-01</td>\n",
              "      <td>NaN</td>\n",
              "      <td>NaN</td>\n",
              "      <td>52.624815</td>\n",
              "      <td>-1.141081</td>\n",
              "      <td>Male</td>\n",
              "      <td>18-24</td>\n",
              "      <td>Black/African/Caribbean/Black British - African</td>\n",
              "      <td>Black</td>\n",
              "      <td>Misuse of Drugs Act 1971 (section 23)</td>\n",
              "      <td>Controlled drugs</td>\n",
              "      <td>Community resolution</td>\n",
              "      <td>NaN</td>\n",
              "      <td>False</td>\n",
              "      <td>Leicester</td>\n",
              "    </tr>\n",
              "  </tbody>\n",
              "</table>\n",
              "</div>"
            ],
            "text/plain": [
              "                        Type  ...      Force\n",
              "0              Person search  ...  Leicester\n",
              "1  Person and Vehicle search  ...  Leicester\n",
              "2  Person and Vehicle search  ...  Leicester\n",
              "3              Person search  ...  Leicester\n",
              "4              Person search  ...  Leicester\n",
              "\n",
              "[5 rows x 16 columns]"
            ]
          },
          "metadata": {
            "tags": []
          },
          "execution_count": 8
        }
      ]
    },
    {
      "cell_type": "code",
      "metadata": {
        "id": "ks_c5w_k9VGK"
      },
      "source": [
        ""
      ],
      "execution_count": 8,
      "outputs": []
    },
    {
      "cell_type": "markdown",
      "metadata": {
        "id": "k0bbOh6vh_Ug"
      },
      "source": [
        "The data from manchester police only goes to 2019/06 where as the other two forces have data to the end of 2020. I chose 2018/2019 month ending march to get an unbias representation of stop and search counts and will later gather more data from other forces to analise"
      ]
    },
    {
      "cell_type": "code",
      "metadata": {
        "colab": {
          "base_uri": "https://localhost:8080/"
        },
        "id": "L9KToUM5mqbU",
        "outputId": "fd7e1d0a-e230-426b-978f-232a78c36c96"
      },
      "source": [
        "leic_2020 = (stop_search['Date'] < '2019-06-30') & (stop_search['Force'] == 'Leicester')\r\n",
        "leic_2020 = stop_search.loc[leic_2020]\r\n",
        "\r\n",
        "met_2020 = (stop_search['Date'] < '2019-06-30') & (stop_search['Force'] == 'Metropolitan')\r\n",
        "met_2020  = stop_search.loc[met_2020 ]\r\n",
        "\r\n",
        "man_2020 = (stop_search['Date'] < '2019-06-30') & (stop_search['Force'] == 'Manchester')\r\n",
        "man_2020 = stop_search.loc[man_2020]\r\n",
        "\r\n",
        "all_force = pd.concat([man_2020, leic_2020, met_2020 ])\r\n",
        "all_force.shape"
      ],
      "execution_count": 9,
      "outputs": [
        {
          "output_type": "execute_result",
          "data": {
            "text/plain": [
              "(289560, 16)"
            ]
          },
          "metadata": {
            "tags": []
          },
          "execution_count": 9
        }
      ]
    },
    {
      "cell_type": "code",
      "metadata": {
        "id": "cQuZu8XYoqfR"
      },
      "source": [
        ""
      ],
      "execution_count": 9,
      "outputs": []
    },
    {
      "cell_type": "code",
      "metadata": {
        "id": "_7if33FLvFbp"
      },
      "source": [
        "a = len(leic_2020[leic_2020['Officer-defined ethnicity'].isin(['Black', 'Asian', 'Other'])]) / 163201 * 1000\r\n",
        "b = len(leic_2020[leic_2020['Officer-defined ethnicity'].isin(['White'])]) / 166636 * 1000\r\n",
        "c = len(met_2020[met_2020['Officer-defined ethnicity'].isin(['Black', 'Asian', 'Other'])]) / 4504657 * 1000\r\n",
        "d = met_2020['Officer-defined ethnicity'].value_counts().White / 3669284 * 1000\r\n",
        "e = len(man_2020[man_2020['Officer-defined ethnicity'].isin(['Black', 'Asian', 'Other'])]) / 434405 * 1000\r\n",
        "f = man_2020['Officer-defined ethnicity'].value_counts().White / 2248123 * 1000\r\n",
        "\r\n",
        "data = {'Bame Rates':  [a, c, e],\r\n",
        "        'White Rates': [b, d,f],\r\n",
        "        'City' : ['Leicester','Metro','Manchester']}\r\n",
        "\r\n",
        "df_rate_thousand = pd.DataFrame(data)\r\n",
        "df_rate_thousand = df_rate_thousand.set_index('City')\r\n",
        "df_rate_thousand2 = df_rate_thousand\r\n"
      ],
      "execution_count": 10,
      "outputs": []
    },
    {
      "cell_type": "markdown",
      "metadata": {
        "id": "eo1bGG3Uy34_"
      },
      "source": [
        "#results and findings"
      ]
    },
    {
      "cell_type": "code",
      "metadata": {
        "colab": {
          "base_uri": "https://localhost:8080/",
          "height": 289
        },
        "id": "h5NW0bzl2IVS",
        "outputId": "243216c6-e2ac-4957-cac9-08304fca244a"
      },
      "source": [
        "import seaborn as sns\r\n",
        "import matplotlib.pyplot as plt\r\n",
        "%matplotlib inline\r\n",
        "plot = df_rate_thousand.plot(kind='bar', figsize=(6,3), title='Stop and Search rates Per 1000, 1018-2019/06 ')\r\n",
        "fig = plot.get_figure()\r\n",
        "fig.savefig(\"output.png\")"
      ],
      "execution_count": 11,
      "outputs": [
        {
          "output_type": "display_data",
          "data": {
            "image/png": "[encoded data removed]",
            "text/plain": [
              "<Figure size 432x216 with 1 Axes>"
            ]
          },
          "metadata": {
            "tags": [],
            "needs_background": "light"
          }
        }
      ]
    },
    {
      "cell_type": "code",
      "metadata": {
        "id": "WLZETHV0vRVA"
      },
      "source": [
        "def percentage_change(col1,col2):\r\n",
        "    return ((col2 - col1) / col1) * 100\r\n",
        "df_rate_thousand2['Percentage change'] = percentage_change(df_rate_thousand2['Bame Rates'],df_rate_thousand2['White Rates'])\r\n"
      ],
      "execution_count": 13,
      "outputs": []
    },
    {
      "cell_type": "code",
      "metadata": {
        "colab": {
          "base_uri": "https://localhost:8080/",
          "height": 265
        },
        "id": "XvUCcLQ1N3m8",
        "outputId": "8125d5c1-b378-4bdb-84df-ce70d5431166"
      },
      "source": [
        "\r\n",
        "df = df_rate_thousand2\r\n",
        "df = df.reset_index()\r\n",
        "\r\n",
        "import pandas as pd\r\n",
        "import numpy as np\r\n",
        "import matplotlib.pyplot as plt\r\n",
        "import six\r\n",
        "\r\n",
        "\r\n",
        "def render_mpl_table(data, col_width=5.0, row_height=1, font_size=9,\r\n",
        "                     header_color='#40466e', row_colors=['#f1f1f2', 'w'], edge_color='w',\r\n",
        "                     bbox=[0, 0, 1, 1], header_columns=0,\r\n",
        "                     ax=None, **kwargs):\r\n",
        "    if ax is None:\r\n",
        "        size = (np.array(data.shape[::-1]) + np.array([0, 1])) * np.array([col_width, row_height])\r\n",
        "        fig, ax = plt.subplots(figsize=size)\r\n",
        "        ax.axis('off')\r\n",
        "\r\n",
        "    mpl_table = ax.table(cellText=data.values, bbox=bbox, colLabels=data.columns, **kwargs)\r\n",
        "\r\n",
        "    mpl_table.auto_set_font_size(False)\r\n",
        "    mpl_table.set_fontsize(font_size)\r\n",
        "\r\n",
        "    for k, cell in  six.iteritems(mpl_table._cells):\r\n",
        "        cell.set_edgecolor(edge_color)\r\n",
        "        if k[0] == 0 or k[1] < header_columns:\r\n",
        "            cell.set_text_props(weight='bold', color='w')\r\n",
        "            cell.set_facecolor(header_color)\r\n",
        "        else:\r\n",
        "            cell.set_facecolor(row_colors[k[0]%len(row_colors) ])\r\n",
        "    return ax\r\n",
        "\r\n",
        "render_mpl_table(df, header_columns=0, col_width=2.0)"
      ],
      "execution_count": 15,
      "outputs": [
        {
          "output_type": "execute_result",
          "data": {
            "text/plain": [
              "<matplotlib.axes._subplots.AxesSubplot at 0x7fb45ddef4d0>"
            ]
          },
          "metadata": {
            "tags": []
          },
          "execution_count": 15
        },
        {
          "output_type": "display_data",
          "data": {
            "image/png": "[encoded data removed]",
            "text/plain": [
              "<Figure size 576x288 with 1 Axes>"
            ]
          },
          "metadata": {
            "tags": [],
            "needs_background": "light"
          }
        }
      ]
    },
    {
      "cell_type": "code",
      "metadata": {
        "id": "0Y5QZ3ixAwEI"
      },
      "source": [
        "bame = all_force[all_force['Officer-defined ethnicity'].isin(['Black', 'Asian', 'Other'])]\r\n",
        "white = all_force[all_force['Officer-defined ethnicity'] == 'White']"
      ],
      "execution_count": 16,
      "outputs": []
    },
    {
      "cell_type": "code",
      "metadata": {
        "colab": {
          "base_uri": "https://localhost:8080/",
          "height": 281
        },
        "id": "vMd-tFMLB396",
        "outputId": "42a081a2-6497-4aa5-d11c-d1894f2e8fcd"
      },
      "source": [
        "plot = bame.Outcome.value_counts().sort_values().plot(kind = 'barh', title= 'Bame Outcomes')\r\n",
        "fig = plot.get_figure()\r\n",
        "fig.savefig(\"output.png\")"
      ],
      "execution_count": 17,
      "outputs": [
        {
          "output_type": "display_data",
          "data": {
            "image/png": "[encoded data removed]",
            "text/plain": [
              "<Figure size 432x288 with 1 Axes>"
            ]
          },
          "metadata": {
            "tags": [],
            "needs_background": "light"
          }
        }
      ]
    },
    {
      "cell_type": "code",
      "metadata": {
        "colab": {
          "base_uri": "https://localhost:8080/",
          "height": 281
        },
        "id": "q8dIL02NB33w",
        "outputId": "c36986ee-624c-4c5b-d2da-07323eda87ec"
      },
      "source": [
        "plot = white.Outcome.value_counts().sort_values().plot(kind = 'barh', title='White outcomes')\r\n",
        "fig = plot.get_figure()\r\n",
        "fig.savefig(\"output.png\")"
      ],
      "execution_count": 18,
      "outputs": [
        {
          "output_type": "display_data",
          "data": {
            "image/png": "[encoded data removed]",
            "text/plain": [
              "<Figure size 432x288 with 1 Axes>"
            ]
          },
          "metadata": {
            "tags": [],
            "needs_background": "light"
          }
        }
      ]
    },
    {
      "cell_type": "code",
      "metadata": {
        "id": "8UNr-c9GBuDe"
      },
      "source": [
        "bame2 = confidence_police2[confidence_police2['Ethnicity'].isin(['Black', 'Asian', 'Other'])]\r\n",
        "white2 = confidence_police2[confidence_police2['Ethnicity'] == 'White']"
      ],
      "execution_count": 19,
      "outputs": []
    },
    {
      "cell_type": "code",
      "metadata": {
        "id": "i62q_H3dHWoe"
      },
      "source": [
        "bame2 = bame2[bame2['Geography'].isin(['Leicestershire', 'Greater Manchester', 'City of London / Metropolitan Police' ])]\r\n",
        "white2 = white2[white2['Geography'].isin(['Leicestershire', 'Greater Manchester', 'City of London / Metropolitan Police' ])]"
      ],
      "execution_count": 20,
      "outputs": []
    },
    {
      "cell_type": "code",
      "metadata": {
        "colab": {
          "base_uri": "https://localhost:8080/",
          "height": 224
        },
        "id": "2P2TIcDMHC8S",
        "outputId": "53bc42fc-77b9-497b-c349-97b464bea860"
      },
      "source": [
        "plt.figure(figsize=(50, 25))\r\n",
        "g = sns.catplot(data=bame2,kind='bar', x=\"Geography\", y=\"Value\", size=2, aspect=3)\r\n",
        "ax = g.facet_axis(0,0)\r\n",
        "for p in ax.patches:\r\n",
        "    ax.text(p.get_x() + 0.015, \r\n",
        "            p.get_height() * 1.02, \r\n",
        "            '{0:.2f}'.format(p.get_height()), \r\n",
        "            color='black', rotation='horizontal', size='large')\r\n",
        "g.set(xlabel='Bame Confidence in the police', ylabel='Confidence in police %')\r\n",
        "g.savefig(\"output.png\")\r\n",
        "plt.show()"
      ],
      "execution_count": 22,
      "outputs": [
        {
          "output_type": "stream",
          "text": [
            "/usr/local/lib/python3.7/dist-packages/seaborn/categorical.py:3747: UserWarning: The `size` parameter has been renamed to `height`; please update your code.\n",
            "  warnings.warn(msg, UserWarning)\n"
          ],
          "name": "stderr"
        },
        {
          "output_type": "display_data",
          "data": {
            "text/plain": [
              "<Figure size 3600x1800 with 0 Axes>"
            ]
          },
          "metadata": {
            "tags": []
          }
        },
        {
          "output_type": "display_data",
          "data": {
            "image/png": "[encoded data removed]",
            "text/plain": [
              "<Figure size 432x144 with 1 Axes>"
            ]
          },
          "metadata": {
            "tags": [],
            "needs_background": "light"
          }
        }
      ]
    },
    {
      "cell_type": "code",
      "metadata": {
        "colab": {
          "base_uri": "https://localhost:8080/",
          "height": 224
        },
        "id": "fMGekjwTIgI4",
        "outputId": "7db03925-279b-4916-93c3-931d264a7778"
      },
      "source": [
        "plt.figure(figsize=(50, 25))\r\n",
        "g = sns.catplot(data=white2,kind='bar', x=\"Geography\", y=\"Value\", size=2, aspect=3)\r\n",
        "ax = g.facet_axis(0,0)\r\n",
        "for p in ax.patches:\r\n",
        "    ax.text(p.get_x() + 0.015, \r\n",
        "            p.get_height() * 1.02, \r\n",
        "            '{0:.2f}'.format(p.get_height()), \r\n",
        "            color='black', rotation='horizontal', size='large')\r\n",
        "g.set(xlabel='White Confidence in the Police', ylabel='Confidence in police %')\r\n",
        "g.savefig(\"output.png\")\r\n",
        "plt.show()"
      ],
      "execution_count": 23,
      "outputs": [
        {
          "output_type": "stream",
          "text": [
            "/usr/local/lib/python3.7/dist-packages/seaborn/categorical.py:3747: UserWarning: The `size` parameter has been renamed to `height`; please update your code.\n",
            "  warnings.warn(msg, UserWarning)\n"
          ],
          "name": "stderr"
        },
        {
          "output_type": "display_data",
          "data": {
            "text/plain": [
              "<Figure size 3600x1800 with 0 Axes>"
            ]
          },
          "metadata": {
            "tags": []
          }
        },
        {
          "output_type": "display_data",
          "data": {
            "image/png": "[encoded data removed]",
            "text/plain": [
              "<Figure size 432x144 with 1 Axes>"
            ]
          },
          "metadata": {
            "tags": [],
            "needs_background": "light"
          }
        }
      ]
    },
    {
      "cell_type": "code",
      "metadata": {
        "colab": {
          "base_uri": "https://localhost:8080/",
          "height": 404
        },
        "id": "l41QjGxu78PQ",
        "outputId": "405493ee-d84e-4a86-e8ac-046631146852"
      },
      "source": [
        "stop_search_ethnicity.head()"
      ],
      "execution_count": 24,
      "outputs": [
        {
          "output_type": "execute_result",
          "data": {
            "text/html": [
              "<div>\n",
              "<style scoped>\n",
              "    .dataframe tbody tr th:only-of-type {\n",
              "        vertical-align: middle;\n",
              "    }\n",
              "\n",
              "    .dataframe tbody tr th {\n",
              "        vertical-align: top;\n",
              "    }\n",
              "\n",
              "    .dataframe thead th {\n",
              "        text-align: right;\n",
              "    }\n",
              "</style>\n",
              "<table border=\"1\" class=\"dataframe\">\n",
              "  <thead>\n",
              "    <tr style=\"text-align: right;\">\n",
              "      <th></th>\n",
              "      <th>Measure</th>\n",
              "      <th>Time</th>\n",
              "      <th>Time_type</th>\n",
              "      <th>Ethnicity</th>\n",
              "      <th>Ethnicity_type</th>\n",
              "      <th>Geography</th>\n",
              "      <th>Geography_type</th>\n",
              "      <th>Number of stop and searches</th>\n",
              "      <th>Total number of stop and search carried out in this year in this area (excluding cases where the ethnicity was unreported)</th>\n",
              "      <th>Population by ethnicity</th>\n",
              "      <th>Rate per 1,000 population by ethnicity</th>\n",
              "      <th>Proportion of total stop and searches of this ethnicity in the financial year (excludes unreported)</th>\n",
              "      <th>Notes</th>\n",
              "    </tr>\n",
              "  </thead>\n",
              "  <tbody>\n",
              "    <tr>\n",
              "      <th>0</th>\n",
              "      <td>Number of stops and searches carried out (excl...</td>\n",
              "      <td>2006/07</td>\n",
              "      <td>Financial year</td>\n",
              "      <td>All</td>\n",
              "      <td>All</td>\n",
              "      <td>Avon &amp; Somerset</td>\n",
              "      <td>Police Force Area</td>\n",
              "      <td>15,018</td>\n",
              "      <td>9,050</td>\n",
              "      <td>1,599,555</td>\n",
              "      <td>9.39</td>\n",
              "      <td>NaN</td>\n",
              "      <td>NaN</td>\n",
              "    </tr>\n",
              "    <tr>\n",
              "      <th>1</th>\n",
              "      <td>Number of stops and searches carried out (excl...</td>\n",
              "      <td>2006/07</td>\n",
              "      <td>Financial year</td>\n",
              "      <td>All</td>\n",
              "      <td>All</td>\n",
              "      <td>Bedfordshire</td>\n",
              "      <td>Police Force Area</td>\n",
              "      <td>4,768</td>\n",
              "      <td>4,279</td>\n",
              "      <td>615,061</td>\n",
              "      <td>7.75</td>\n",
              "      <td>NaN</td>\n",
              "      <td>NaN</td>\n",
              "    </tr>\n",
              "    <tr>\n",
              "      <th>2</th>\n",
              "      <td>Number of stops and searches carried out (excl...</td>\n",
              "      <td>2006/07</td>\n",
              "      <td>Financial year</td>\n",
              "      <td>All</td>\n",
              "      <td>All</td>\n",
              "      <td>Cambridgeshire</td>\n",
              "      <td>Police Force Area</td>\n",
              "      <td>8,773</td>\n",
              "      <td>8,582</td>\n",
              "      <td>804,841</td>\n",
              "      <td>10.9</td>\n",
              "      <td>NaN</td>\n",
              "      <td>NaN</td>\n",
              "    </tr>\n",
              "    <tr>\n",
              "      <th>3</th>\n",
              "      <td>Number of stops and searches carried out (excl...</td>\n",
              "      <td>2006/07</td>\n",
              "      <td>Financial year</td>\n",
              "      <td>All</td>\n",
              "      <td>All</td>\n",
              "      <td>Cheshire</td>\n",
              "      <td>Police Force Area</td>\n",
              "      <td>6,472</td>\n",
              "      <td>6,390</td>\n",
              "      <td>1,027,709</td>\n",
              "      <td>6.3</td>\n",
              "      <td>NaN</td>\n",
              "      <td>NaN</td>\n",
              "    </tr>\n",
              "    <tr>\n",
              "      <th>4</th>\n",
              "      <td>Number of stops and searches carried out (excl...</td>\n",
              "      <td>2006/07</td>\n",
              "      <td>Financial year</td>\n",
              "      <td>All</td>\n",
              "      <td>All</td>\n",
              "      <td>Cleveland</td>\n",
              "      <td>Police Force Area</td>\n",
              "      <td>12,137</td>\n",
              "      <td>11,453</td>\n",
              "      <td>557,227</td>\n",
              "      <td>21.78</td>\n",
              "      <td>NaN</td>\n",
              "      <td>NaN</td>\n",
              "    </tr>\n",
              "  </tbody>\n",
              "</table>\n",
              "</div>"
            ],
            "text/plain": [
              "                                             Measure  ... Notes\n",
              "0  Number of stops and searches carried out (excl...  ...   NaN\n",
              "1  Number of stops and searches carried out (excl...  ...   NaN\n",
              "2  Number of stops and searches carried out (excl...  ...   NaN\n",
              "3  Number of stops and searches carried out (excl...  ...   NaN\n",
              "4  Number of stops and searches carried out (excl...  ...   NaN\n",
              "\n",
              "[5 rows x 13 columns]"
            ]
          },
          "metadata": {
            "tags": []
          },
          "execution_count": 24
        }
      ]
    }
  ]
}