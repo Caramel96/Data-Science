{
  "nbformat": 4,
  "nbformat_minor": 0,
  "metadata": {
    "kernelspec": {
      "display_name": "Python 3",
      "language": "python",
      "name": "python3"
    },
    "language_info": {
      "codemirror_mode": {
        "name": "ipython",
        "version": 3
      },
      "file_extension": ".py",
      "mimetype": "text/x-python",
      "name": "python",
      "nbconvert_exporter": "python",
      "pygments_lexer": "ipython3",
      "version": "3.6.5"
    },
    "colab": {
      "name": "Copy of CNN.ipynb",
      "provenance": [],
      "collapsed_sections": [],
      "include_colab_link": true
    },
    "accelerator": "GPU"
  },
  "cells": [
    {
      "cell_type": "markdown",
      "metadata": {
        "id": "view-in-github",
        "colab_type": "text"
      },
      "source": [
        "<a href=\"https://colab.research.google.com/github/Caramel96/Samuel_BuckbyCE888/blob/main/Lab_7/Copy_of_CNN.ipynb\" target=\"_parent\"><img src=\"https://colab.research.google.com/assets/colab-badge.svg\" alt=\"Open In Colab\"/></a>"
      ]
    },
    {
      "cell_type": "markdown",
      "metadata": {
        "id": "vwRGEQbzGpYQ"
      },
      "source": [
        "# First CNN model for MNIST Dataset\n",
        "\n",
        "* MNIST Dataset is ''Hello World'' of Image Recognition\n",
        "\n",
        "* [Dataset HomePage](http://yann.lecun.com/exdb/mnist/)\n",
        "\n",
        "* History of MNIST Dataset [Watch here](https://www.youtube.com/watch?v=oKzNUGz21JM)\n",
        "\n",
        "\n",
        "---\n",
        "The MNIST database of handwritten digits, available from this page, has a training set of 60,000 examples, and a \n",
        "test set of 10,000 examples. It is a subset of a larger set available from NIST. The digits have been size-normalized and centered in a fixed-size image.\n",
        "\n",
        "![Kitten](https://camo.githubusercontent.com/01c057a753e92a9bc70b8c45d62b295431851c09cffadf53106fc0aea7e2843f/687474703a2f2f692e7974696d672e636f6d2f76692f3051493378675875422d512f687164656661756c742e6a7067)\n"
      ]
    },
    {
      "cell_type": "markdown",
      "metadata": {
        "id": "PhmJOHCpJD_w"
      },
      "source": [
        "# Let's start building our first CNN Model"
      ]
    },
    {
      "cell_type": "code",
      "metadata": {
        "id": "lSyHCSV7jymI"
      },
      "source": [
        "from keras import layers\n",
        "from keras import models"
      ],
      "execution_count": 1,
      "outputs": []
    },
    {
      "cell_type": "markdown",
      "metadata": {
        "id": "oWNzCYUUjymN"
      },
      "source": [
        "Importantly, a convnet takes as input tensors of shape (image_height, image_width,\n",
        "image_channels) (not including the batch dimension). In this case, we’ll configure\n",
        "the convnet to process inputs of size (28, 28, 1), which is the format of MNIST\n",
        "images. We’ll do this by passing the argument input_shape=(28, 28, 1) to the first\n",
        "layer."
      ]
    },
    {
      "cell_type": "markdown",
      "metadata": {
        "id": "dM4JLEpwjymN"
      },
      "source": [
        "#### Instantiating a small convnet"
      ]
    },
    {
      "cell_type": "code",
      "metadata": {
        "id": "p-OnpExGjymO",
        "colab": {
          "base_uri": "https://localhost:8080/"
        },
        "outputId": "b559ef6f-af12-4385-9bf1-6fe71d448806"
      },
      "source": [
        "model = models.Sequential()\n",
        "model.add(layers.Conv2D(32, (3, 3), activation='relu', input_shape=(28, 28, 1)))\n",
        "model.add(layers.MaxPooling2D((2, 2)))\n",
        "model.add(layers.Conv2D(64, (3, 3), activation='relu'))\n",
        "model.add(layers.MaxPooling2D((2, 2)))\n",
        "model.add(layers.Conv2D(64, (3, 3), activation='relu'))\n",
        "model.summary()"
      ],
      "execution_count": 2,
      "outputs": [
        {
          "output_type": "stream",
          "text": [
            "Model: \"sequential\"\n",
            "_________________________________________________________________\n",
            "Layer (type)                 Output Shape              Param #   \n",
            "=================================================================\n",
            "conv2d (Conv2D)              (None, 26, 26, 32)        320       \n",
            "_________________________________________________________________\n",
            "max_pooling2d (MaxPooling2D) (None, 13, 13, 32)        0         \n",
            "_________________________________________________________________\n",
            "conv2d_1 (Conv2D)            (None, 11, 11, 64)        18496     \n",
            "_________________________________________________________________\n",
            "max_pooling2d_1 (MaxPooling2 (None, 5, 5, 64)          0         \n",
            "_________________________________________________________________\n",
            "conv2d_2 (Conv2D)            (None, 3, 3, 64)          36928     \n",
            "=================================================================\n",
            "Total params: 55,744\n",
            "Trainable params: 55,744\n",
            "Non-trainable params: 0\n",
            "_________________________________________________________________\n"
          ],
          "name": "stdout"
        }
      ]
    },
    {
      "cell_type": "markdown",
      "metadata": {
        "id": "7gcVG3xkjymR"
      },
      "source": [
        "#### Adding a classifier on top of the convnet"
      ]
    },
    {
      "cell_type": "code",
      "metadata": {
        "id": "C2DfhDJYjymR",
        "colab": {
          "base_uri": "https://localhost:8080/"
        },
        "outputId": "66e0e40e-93be-4e78-fa11-397677afb24b"
      },
      "source": [
        "model.add(layers.Flatten())\n",
        "model.add(layers.Dense(64, activation='relu'))\n",
        "model.add(layers.Dense(10, activation='softmax'))\n",
        "model.summary()"
      ],
      "execution_count": 3,
      "outputs": [
        {
          "output_type": "stream",
          "text": [
            "Model: \"sequential\"\n",
            "_________________________________________________________________\n",
            "Layer (type)                 Output Shape              Param #   \n",
            "=================================================================\n",
            "conv2d (Conv2D)              (None, 26, 26, 32)        320       \n",
            "_________________________________________________________________\n",
            "max_pooling2d (MaxPooling2D) (None, 13, 13, 32)        0         \n",
            "_________________________________________________________________\n",
            "conv2d_1 (Conv2D)            (None, 11, 11, 64)        18496     \n",
            "_________________________________________________________________\n",
            "max_pooling2d_1 (MaxPooling2 (None, 5, 5, 64)          0         \n",
            "_________________________________________________________________\n",
            "conv2d_2 (Conv2D)            (None, 3, 3, 64)          36928     \n",
            "_________________________________________________________________\n",
            "flatten (Flatten)            (None, 576)               0         \n",
            "_________________________________________________________________\n",
            "dense (Dense)                (None, 64)                36928     \n",
            "_________________________________________________________________\n",
            "dense_1 (Dense)              (None, 10)                650       \n",
            "=================================================================\n",
            "Total params: 93,322\n",
            "Trainable params: 93,322\n",
            "Non-trainable params: 0\n",
            "_________________________________________________________________\n"
          ],
          "name": "stdout"
        }
      ]
    },
    {
      "cell_type": "markdown",
      "metadata": {
        "id": "NOKVF4nKjymU"
      },
      "source": [
        "### Training the convnet on MNIST images"
      ]
    },
    {
      "cell_type": "code",
      "metadata": {
        "id": "oIcgUbbUjymV"
      },
      "source": [
        "from keras.datasets import mnist\n",
        "from keras.utils import to_categorical"
      ],
      "execution_count": 4,
      "outputs": []
    },
    {
      "cell_type": "markdown",
      "metadata": {
        "id": "ZnJ2Pfs_jymX"
      },
      "source": [
        "#### Load Data"
      ]
    },
    {
      "cell_type": "code",
      "metadata": {
        "id": "JpHGHE9MjymY",
        "colab": {
          "base_uri": "https://localhost:8080/"
        },
        "outputId": "f86971bf-8f5b-44ea-96bc-f39b36524e20"
      },
      "source": [
        "(train_images, train_labels), (test_images, test_labels) = mnist.load_data()\n",
        "train_images = train_images.reshape((60000, 28, 28, 1))\n",
        "train_images = train_images.astype('float32') / 255\n",
        "test_images = test_images.reshape((10000, 28, 28, 1))\n",
        "test_images = test_images.astype('float32') / 255\n",
        "train_labels = to_categorical(train_labels)\n",
        "test_labels = to_categorical(test_labels)"
      ],
      "execution_count": 5,
      "outputs": [
        {
          "output_type": "stream",
          "text": [
            "Downloading data from https://storage.googleapis.com/tensorflow/tf-keras-datasets/mnist.npz\n",
            "11493376/11490434 [==============================] - 0s 0us/step\n"
          ],
          "name": "stdout"
        }
      ]
    },
    {
      "cell_type": "markdown",
      "metadata": {
        "id": "4HoTLrfSjymd"
      },
      "source": [
        "#### compile and fit model "
      ]
    },
    {
      "cell_type": "code",
      "metadata": {
        "id": "i23FDtC9jyme",
        "colab": {
          "base_uri": "https://localhost:8080/"
        },
        "outputId": "22de8b19-9857-4762-889d-72b77ff55c6e"
      },
      "source": [
        "model.compile(optimizer='rmsprop', \n",
        "              loss='categorical_crossentropy',\n",
        "              metrics=['accuracy'])\n",
        "history = model.fit(train_images, train_labels, epochs=5, batch_size=64, validation_split=0.2)"
      ],
      "execution_count": 6,
      "outputs": [
        {
          "output_type": "stream",
          "text": [
            "Epoch 1/5\n",
            "750/750 [==============================] - 39s 12ms/step - loss: 0.4481 - accuracy: 0.8602 - val_loss: 0.0610 - val_accuracy: 0.9818\n",
            "Epoch 2/5\n",
            "750/750 [==============================] - 9s 12ms/step - loss: 0.0566 - accuracy: 0.9823 - val_loss: 0.0477 - val_accuracy: 0.9862\n",
            "Epoch 3/5\n",
            "750/750 [==============================] - 9s 12ms/step - loss: 0.0359 - accuracy: 0.9888 - val_loss: 0.0517 - val_accuracy: 0.9864\n",
            "Epoch 4/5\n",
            "750/750 [==============================] - 9s 12ms/step - loss: 0.0263 - accuracy: 0.9915 - val_loss: 0.0369 - val_accuracy: 0.9897\n",
            "Epoch 5/5\n",
            "750/750 [==============================] - 9s 12ms/step - loss: 0.0190 - accuracy: 0.9937 - val_loss: 0.0370 - val_accuracy: 0.9902\n"
          ],
          "name": "stdout"
        }
      ]
    },
    {
      "cell_type": "markdown",
      "metadata": {
        "id": "9zU8iI5ojymg"
      },
      "source": [
        "#### evaluate model"
      ]
    },
    {
      "cell_type": "code",
      "metadata": {
        "id": "Z3VeaL1Njymh",
        "colab": {
          "base_uri": "https://localhost:8080/"
        },
        "outputId": "fa846fd8-f270-489b-fa89-a7ebc41d75f1"
      },
      "source": [
        "test_loss, test_acc = model.evaluate(test_images, test_labels)\n",
        "test_acc"
      ],
      "execution_count": 7,
      "outputs": [
        {
          "output_type": "stream",
          "text": [
            "313/313 [==============================] - 1s 4ms/step - loss: 0.0295 - accuracy: 0.9904\n"
          ],
          "name": "stdout"
        },
        {
          "output_type": "execute_result",
          "data": {
            "text/plain": [
              "0.9904000163078308"
            ]
          },
          "metadata": {
            "tags": []
          },
          "execution_count": 7
        }
      ]
    },
    {
      "cell_type": "code",
      "metadata": {
        "id": "wXNZOY7Sjymj",
        "colab": {
          "base_uri": "https://localhost:8080/",
          "height": 545
        },
        "outputId": "b6720dd2-376d-4ec1-c224-d23627131aaa"
      },
      "source": [
        "import matplotlib.pyplot as plt\n",
        "\n",
        "acc = history.history['accuracy']\n",
        "val_acc = history.history['val_accuracy']\n",
        "loss = history.history['loss']\n",
        "val_loss = history.history['val_loss']\n",
        "\n",
        "epochs = range(1, len(acc) + 1)\n",
        "\n",
        "plt.plot(epochs, acc, 'bo', label='Training acc')\n",
        "plt.plot(epochs, val_acc, 'b', label='Validation acc')\n",
        "plt.title('Training and validation accuracy')\n",
        "plt.legend()\n",
        "\n",
        "plt.figure()\n",
        "\n",
        "plt.plot(epochs, loss, 'bo', label='Training loss')\n",
        "plt.plot(epochs, val_loss, 'b', label='Validation loss')\n",
        "plt.title('Training and validation loss')\n",
        "plt.legend()\n",
        "\n",
        "plt.show()"
      ],
      "execution_count": 8,
      "outputs": [
        {
          "output_type": "display_data",
          "data": {
            "image/png": "[encoded data removed]",
            "text/plain": [
              "<Figure size 432x288 with 1 Axes>"
            ]
          },
          "metadata": {
            "tags": [],
            "needs_background": "light"
          }
        },
        {
          "output_type": "display_data",
          "data": {
            "image/png": "[encoded data removed]",
            "text/plain": [
              "<Figure size 432x288 with 1 Axes>"
            ]
          },
          "metadata": {
            "tags": [],
            "needs_background": "light"
          }
        }
      ]
    },
    {
      "cell_type": "markdown",
      "metadata": {
        "id": "dsQMc0Iojyml"
      },
      "source": [
        "## Task 1\n",
        "\n",
        "Change the activation function and other parameters such as optimizer to see the effect on the network and it's performance. If possible create a grid search.  batch_size = [10, 20, 30]\n",
        "epochs = [1, 5, 10 ]   batch_size=batch_size,epochs=epochs "
      ]
    },
    {
      "cell_type": "code",
      "metadata": {
        "id": "owJ-29BrJXNa",
        "colab": {
          "base_uri": "https://localhost:8080/"
        },
        "outputId": "8c32c4f0-9f88-401b-b371-740eb19f7be7"
      },
      "source": [
        "# Write code here\n",
        "from keras.wrappers.scikit_learn import KerasClassifier\n",
        "from sklearn.model_selection import GridSearchCV, KFold\n",
        "def create_model( optimizer='rmsprop', activation='relu'):\n",
        "  model = models.Sequential()\n",
        "  model.add(layers.Conv2D(32, (3, 3), activation = activation, input_shape=(28, 28, 1)))\n",
        "  model.add(layers.MaxPooling2D((2, 2)))\n",
        "  model.add(layers.Conv2D(64, (3, 3), activation=activation))\n",
        "  model.add(layers.MaxPooling2D((2, 2)))\n",
        "  model.add(layers.Conv2D(64, (3, 3), activation=activation))\n",
        "  model.add(layers.Flatten())\n",
        "  model.add(layers.Dense(64, activation=activation))\n",
        "  model.add(layers.Dense(10, activation='softmax'))\n",
        "  model.compile(optimizer=optimizer, \n",
        "              loss='categorical_crossentropy',\n",
        "              metrics=['accuracy'])\n",
        "  return model\n",
        "\n",
        "model = KerasClassifier(build_fn=create_model, epochs=10, batch_size=64, verbose=1)\n",
        "optimizer = ['RMSprop','Adam']\n",
        "activation = ['relu', 'tanh']\n",
        "\n",
        "param_grid = dict(optimizer=optimizer, activation=activation)\n",
        "\n",
        "grid = GridSearchCV(estimator=model, param_grid=param_grid, cv=5, verbose=1)\n",
        "\n",
        "grid_results = grid.fit(train_images, train_labels)\n",
        "\n",
        "print(\"Best: {0}, using {1}\".format(grid_results.best_score_, grid_results.best_params_))"
      ],
      "execution_count": 13,
      "outputs": [
        {
          "output_type": "stream",
          "text": [
            "Fitting 5 folds for each of 4 candidates, totalling 20 fits\n",
            "Epoch 1/10\n"
          ],
          "name": "stdout"
        },
        {
          "output_type": "stream",
          "text": [
            "[Parallel(n_jobs=1)]: Using backend SequentialBackend with 1 concurrent workers.\n"
          ],
          "name": "stderr"
        },
        {
          "output_type": "stream",
          "text": [
            "750/750 [==============================] - 9s 11ms/step - loss: 0.4656 - accuracy: 0.8456\n",
            "Epoch 2/10\n",
            "750/750 [==============================] - 8s 11ms/step - loss: 0.0602 - accuracy: 0.9805\n",
            "Epoch 3/10\n",
            "750/750 [==============================] - 8s 11ms/step - loss: 0.0344 - accuracy: 0.9892\n",
            "Epoch 4/10\n",
            "750/750 [==============================] - 8s 11ms/step - loss: 0.0252 - accuracy: 0.9924\n",
            "Epoch 5/10\n",
            "750/750 [==============================] - 8s 11ms/step - loss: 0.0205 - accuracy: 0.9939\n",
            "Epoch 6/10\n",
            "750/750 [==============================] - 8s 11ms/step - loss: 0.0164 - accuracy: 0.9951\n",
            "Epoch 7/10\n",
            "750/750 [==============================] - 8s 11ms/step - loss: 0.0128 - accuracy: 0.9960\n",
            "Epoch 8/10\n",
            "750/750 [==============================] - 8s 11ms/step - loss: 0.0096 - accuracy: 0.9971\n",
            "Epoch 9/10\n",
            "750/750 [==============================] - 8s 10ms/step - loss: 0.0077 - accuracy: 0.9977\n",
            "Epoch 10/10\n",
            "750/750 [==============================] - 8s 11ms/step - loss: 0.0069 - accuracy: 0.9979\n",
            "188/188 [==============================] - 1s 5ms/step - loss: 0.0384 - accuracy: 0.9918\n",
            "Epoch 1/10\n",
            "750/750 [==============================] - 9s 11ms/step - loss: 0.4513 - accuracy: 0.8526\n",
            "Epoch 2/10\n",
            "750/750 [==============================] - 8s 10ms/step - loss: 0.0580 - accuracy: 0.9822\n",
            "Epoch 3/10\n",
            "750/750 [==============================] - 8s 10ms/step - loss: 0.0370 - accuracy: 0.9880\n",
            "Epoch 4/10\n",
            "750/750 [==============================] - 8s 10ms/step - loss: 0.0280 - accuracy: 0.9910\n",
            "Epoch 5/10\n",
            "750/750 [==============================] - 8s 10ms/step - loss: 0.0217 - accuracy: 0.9936\n",
            "Epoch 6/10\n",
            "750/750 [==============================] - 8s 10ms/step - loss: 0.0144 - accuracy: 0.9953\n",
            "Epoch 7/10\n",
            "750/750 [==============================] - 8s 10ms/step - loss: 0.0123 - accuracy: 0.9962\n",
            "Epoch 8/10\n",
            "750/750 [==============================] - 8s 11ms/step - loss: 0.0098 - accuracy: 0.9967\n",
            "Epoch 9/10\n",
            "750/750 [==============================] - 8s 10ms/step - loss: 0.0088 - accuracy: 0.9971\n",
            "Epoch 10/10\n",
            "750/750 [==============================] - 8s 10ms/step - loss: 0.0071 - accuracy: 0.9975\n",
            "188/188 [==============================] - 1s 4ms/step - loss: 0.0360 - accuracy: 0.9918\n",
            "Epoch 1/10\n",
            "750/750 [==============================] - 9s 11ms/step - loss: 0.4333 - accuracy: 0.8594\n",
            "Epoch 2/10\n",
            "750/750 [==============================] - 8s 11ms/step - loss: 0.0552 - accuracy: 0.9822\n",
            "Epoch 3/10\n",
            "750/750 [==============================] - 8s 11ms/step - loss: 0.0371 - accuracy: 0.9886\n",
            "Epoch 4/10\n",
            "750/750 [==============================] - 8s 11ms/step - loss: 0.0256 - accuracy: 0.9914\n",
            "Epoch 5/10\n",
            "750/750 [==============================] - 8s 11ms/step - loss: 0.0198 - accuracy: 0.9934\n",
            "Epoch 6/10\n",
            "750/750 [==============================] - 8s 11ms/step - loss: 0.0157 - accuracy: 0.9945\n",
            "Epoch 7/10\n",
            "750/750 [==============================] - 8s 11ms/step - loss: 0.0121 - accuracy: 0.9962\n",
            "Epoch 8/10\n",
            "750/750 [==============================] - 8s 11ms/step - loss: 0.0102 - accuracy: 0.9970\n",
            "Epoch 9/10\n",
            "750/750 [==============================] - 8s 11ms/step - loss: 0.0076 - accuracy: 0.9976\n",
            "Epoch 10/10\n",
            "750/750 [==============================] - 8s 11ms/step - loss: 0.0093 - accuracy: 0.9973\n",
            "188/188 [==============================] - 1s 4ms/step - loss: 0.0589 - accuracy: 0.9894\n",
            "Epoch 1/10\n",
            "750/750 [==============================] - 9s 11ms/step - loss: 0.4329 - accuracy: 0.8618\n",
            "Epoch 2/10\n",
            "750/750 [==============================] - 8s 11ms/step - loss: 0.0541 - accuracy: 0.9833\n",
            "Epoch 3/10\n",
            "750/750 [==============================] - 8s 11ms/step - loss: 0.0362 - accuracy: 0.9890\n",
            "Epoch 4/10\n",
            "750/750 [==============================] - 8s 11ms/step - loss: 0.0266 - accuracy: 0.9918\n",
            "Epoch 5/10\n",
            "750/750 [==============================] - 8s 11ms/step - loss: 0.0204 - accuracy: 0.9937\n",
            "Epoch 6/10\n",
            "750/750 [==============================] - 8s 10ms/step - loss: 0.0162 - accuracy: 0.9949\n",
            "Epoch 7/10\n",
            "750/750 [==============================] - 8s 11ms/step - loss: 0.0117 - accuracy: 0.9964\n",
            "Epoch 8/10\n",
            "750/750 [==============================] - 8s 11ms/step - loss: 0.0083 - accuracy: 0.9973\n",
            "Epoch 9/10\n",
            "750/750 [==============================] - 8s 11ms/step - loss: 0.0079 - accuracy: 0.9973\n",
            "Epoch 10/10\n",
            "750/750 [==============================] - 8s 11ms/step - loss: 0.0067 - accuracy: 0.9981\n",
            "188/188 [==============================] - 1s 5ms/step - loss: 0.0625 - accuracy: 0.9891\n",
            "Epoch 1/10\n",
            "750/750 [==============================] - 9s 11ms/step - loss: 0.4538 - accuracy: 0.8530\n",
            "Epoch 2/10\n",
            "750/750 [==============================] - 8s 11ms/step - loss: 0.0534 - accuracy: 0.9822\n",
            "Epoch 3/10\n",
            "750/750 [==============================] - 8s 11ms/step - loss: 0.0348 - accuracy: 0.9886\n",
            "Epoch 4/10\n",
            "750/750 [==============================] - 8s 11ms/step - loss: 0.0246 - accuracy: 0.9920\n",
            "Epoch 5/10\n",
            "750/750 [==============================] - 8s 11ms/step - loss: 0.0194 - accuracy: 0.9940\n",
            "Epoch 6/10\n",
            "750/750 [==============================] - 8s 11ms/step - loss: 0.0166 - accuracy: 0.9949\n",
            "Epoch 7/10\n",
            "750/750 [==============================] - 8s 11ms/step - loss: 0.0123 - accuracy: 0.9964\n",
            "Epoch 8/10\n",
            "750/750 [==============================] - 8s 11ms/step - loss: 0.0088 - accuracy: 0.9970\n",
            "Epoch 9/10\n",
            "750/750 [==============================] - 8s 11ms/step - loss: 0.0071 - accuracy: 0.9978\n",
            "Epoch 10/10\n",
            "750/750 [==============================] - 8s 11ms/step - loss: 0.0077 - accuracy: 0.9975\n",
            "188/188 [==============================] - 1s 5ms/step - loss: 0.0529 - accuracy: 0.9901\n",
            "Epoch 1/10\n",
            "750/750 [==============================] - 7s 9ms/step - loss: 0.4904 - accuracy: 0.8490\n",
            "Epoch 2/10\n",
            "750/750 [==============================] - 7s 9ms/step - loss: 0.0609 - accuracy: 0.9810\n",
            "Epoch 3/10\n",
            "750/750 [==============================] - 7s 9ms/step - loss: 0.0398 - accuracy: 0.9875\n",
            "Epoch 4/10\n",
            "750/750 [==============================] - 7s 9ms/step - loss: 0.0293 - accuracy: 0.9907\n",
            "Epoch 5/10\n",
            "750/750 [==============================] - 7s 9ms/step - loss: 0.0256 - accuracy: 0.9922\n",
            "Epoch 6/10\n",
            "750/750 [==============================] - 7s 9ms/step - loss: 0.0205 - accuracy: 0.9936\n",
            "Epoch 7/10\n",
            "750/750 [==============================] - 7s 9ms/step - loss: 0.0165 - accuracy: 0.9946\n",
            "Epoch 8/10\n",
            "750/750 [==============================] - 7s 9ms/step - loss: 0.0139 - accuracy: 0.9951\n",
            "Epoch 9/10\n",
            "750/750 [==============================] - 7s 9ms/step - loss: 0.0128 - accuracy: 0.9959\n",
            "Epoch 10/10\n",
            "750/750 [==============================] - 7s 9ms/step - loss: 0.0077 - accuracy: 0.9978\n",
            "188/188 [==============================] - 1s 5ms/step - loss: 0.0419 - accuracy: 0.9893\n",
            "Epoch 1/10\n",
            "750/750 [==============================] - 8s 9ms/step - loss: 0.4956 - accuracy: 0.8438\n",
            "Epoch 2/10\n",
            "750/750 [==============================] - 7s 9ms/step - loss: 0.0597 - accuracy: 0.9811\n",
            "Epoch 3/10\n",
            "750/750 [==============================] - 7s 9ms/step - loss: 0.0378 - accuracy: 0.9885\n",
            "Epoch 4/10\n",
            "750/750 [==============================] - 7s 9ms/step - loss: 0.0306 - accuracy: 0.9903\n",
            "Epoch 5/10\n",
            "750/750 [==============================] - 7s 9ms/step - loss: 0.0221 - accuracy: 0.9934\n",
            "Epoch 6/10\n",
            "750/750 [==============================] - 7s 9ms/step - loss: 0.0192 - accuracy: 0.9941\n",
            "Epoch 7/10\n",
            "750/750 [==============================] - 7s 9ms/step - loss: 0.0138 - accuracy: 0.9955\n",
            "Epoch 8/10\n",
            "750/750 [==============================] - 7s 9ms/step - loss: 0.0106 - accuracy: 0.9965\n",
            "Epoch 9/10\n",
            "750/750 [==============================] - 7s 9ms/step - loss: 0.0104 - accuracy: 0.9963\n",
            "Epoch 10/10\n",
            "750/750 [==============================] - 7s 9ms/step - loss: 0.0090 - accuracy: 0.9968\n",
            "188/188 [==============================] - 1s 4ms/step - loss: 0.0349 - accuracy: 0.9893\n",
            "Epoch 1/10\n",
            "750/750 [==============================] - 7s 9ms/step - loss: 0.4954 - accuracy: 0.8451\n",
            "Epoch 2/10\n",
            "750/750 [==============================] - 7s 9ms/step - loss: 0.0609 - accuracy: 0.9801\n",
            "Epoch 3/10\n",
            "750/750 [==============================] - 7s 9ms/step - loss: 0.0379 - accuracy: 0.9881\n",
            "Epoch 4/10\n",
            "750/750 [==============================] - 7s 9ms/step - loss: 0.0315 - accuracy: 0.9897\n",
            "Epoch 5/10\n",
            "750/750 [==============================] - 7s 9ms/step - loss: 0.0250 - accuracy: 0.9919\n",
            "Epoch 6/10\n",
            "750/750 [==============================] - 7s 9ms/step - loss: 0.0187 - accuracy: 0.9938\n",
            "Epoch 7/10\n",
            "750/750 [==============================] - 7s 9ms/step - loss: 0.0165 - accuracy: 0.9948\n",
            "Epoch 8/10\n",
            "750/750 [==============================] - 7s 9ms/step - loss: 0.0110 - accuracy: 0.9966\n",
            "Epoch 9/10\n",
            "750/750 [==============================] - 7s 9ms/step - loss: 0.0123 - accuracy: 0.9963\n",
            "Epoch 10/10\n",
            "750/750 [==============================] - 7s 9ms/step - loss: 0.0092 - accuracy: 0.9972\n",
            "188/188 [==============================] - 1s 5ms/step - loss: 0.0484 - accuracy: 0.9878\n",
            "Epoch 1/10\n",
            "750/750 [==============================] - 7s 9ms/step - loss: 0.4825 - accuracy: 0.8561\n",
            "Epoch 2/10\n",
            "750/750 [==============================] - 7s 9ms/step - loss: 0.0624 - accuracy: 0.9806\n",
            "Epoch 3/10\n",
            "750/750 [==============================] - 7s 9ms/step - loss: 0.0382 - accuracy: 0.9881\n",
            "Epoch 4/10\n",
            "750/750 [==============================] - 7s 9ms/step - loss: 0.0275 - accuracy: 0.9911\n",
            "Epoch 5/10\n",
            "750/750 [==============================] - 7s 9ms/step - loss: 0.0242 - accuracy: 0.9914\n",
            "Epoch 6/10\n",
            "750/750 [==============================] - 7s 9ms/step - loss: 0.0186 - accuracy: 0.9938\n",
            "Epoch 7/10\n",
            "750/750 [==============================] - 7s 9ms/step - loss: 0.0155 - accuracy: 0.9947\n",
            "Epoch 8/10\n",
            "750/750 [==============================] - 7s 9ms/step - loss: 0.0111 - accuracy: 0.9963\n",
            "Epoch 9/10\n",
            "750/750 [==============================] - 7s 9ms/step - loss: 0.0081 - accuracy: 0.9972\n",
            "Epoch 10/10\n",
            "750/750 [==============================] - 7s 9ms/step - loss: 0.0082 - accuracy: 0.9973\n",
            "188/188 [==============================] - 1s 5ms/step - loss: 0.0526 - accuracy: 0.9873\n",
            "Epoch 1/10\n",
            "750/750 [==============================] - 8s 9ms/step - loss: 0.5153 - accuracy: 0.8387\n",
            "Epoch 2/10\n",
            "750/750 [==============================] - 7s 9ms/step - loss: 0.0620 - accuracy: 0.9818\n",
            "Epoch 3/10\n",
            "750/750 [==============================] - 7s 9ms/step - loss: 0.0437 - accuracy: 0.9865\n",
            "Epoch 4/10\n",
            "750/750 [==============================] - 7s 9ms/step - loss: 0.0329 - accuracy: 0.9889\n",
            "Epoch 5/10\n",
            "750/750 [==============================] - 7s 9ms/step - loss: 0.0236 - accuracy: 0.9929\n",
            "Epoch 6/10\n",
            "750/750 [==============================] - 7s 9ms/step - loss: 0.0211 - accuracy: 0.9930\n",
            "Epoch 7/10\n",
            "750/750 [==============================] - 7s 9ms/step - loss: 0.0155 - accuracy: 0.9951\n",
            "Epoch 8/10\n",
            "750/750 [==============================] - 7s 9ms/step - loss: 0.0119 - accuracy: 0.9959\n",
            "Epoch 9/10\n",
            "750/750 [==============================] - 7s 9ms/step - loss: 0.0103 - accuracy: 0.9964\n",
            "Epoch 10/10\n",
            "750/750 [==============================] - 7s 9ms/step - loss: 0.0105 - accuracy: 0.9966\n",
            "188/188 [==============================] - 1s 5ms/step - loss: 0.0477 - accuracy: 0.9889\n",
            "Epoch 1/10\n",
            "750/750 [==============================] - 9s 11ms/step - loss: 0.3431 - accuracy: 0.9020\n",
            "Epoch 2/10\n",
            "750/750 [==============================] - 8s 11ms/step - loss: 0.0598 - accuracy: 0.9823\n",
            "Epoch 3/10\n",
            "750/750 [==============================] - 8s 11ms/step - loss: 0.0361 - accuracy: 0.9888\n",
            "Epoch 4/10\n",
            "750/750 [==============================] - 8s 11ms/step - loss: 0.0262 - accuracy: 0.9917\n",
            "Epoch 5/10\n",
            "750/750 [==============================] - 8s 11ms/step - loss: 0.0190 - accuracy: 0.9946\n",
            "Epoch 6/10\n",
            "750/750 [==============================] - 8s 11ms/step - loss: 0.0125 - accuracy: 0.9963\n",
            "Epoch 7/10\n",
            "750/750 [==============================] - 8s 11ms/step - loss: 0.0097 - accuracy: 0.9973\n",
            "Epoch 8/10\n",
            "750/750 [==============================] - 8s 11ms/step - loss: 0.0065 - accuracy: 0.9980\n",
            "Epoch 9/10\n",
            "750/750 [==============================] - 8s 11ms/step - loss: 0.0049 - accuracy: 0.9987\n",
            "Epoch 10/10\n",
            "750/750 [==============================] - 8s 11ms/step - loss: 0.0044 - accuracy: 0.9988\n",
            "188/188 [==============================] - 1s 5ms/step - loss: 0.0559 - accuracy: 0.9880\n",
            "Epoch 1/10\n",
            "750/750 [==============================] - 9s 11ms/step - loss: 0.3485 - accuracy: 0.8981\n",
            "Epoch 2/10\n",
            "750/750 [==============================] - 8s 11ms/step - loss: 0.0589 - accuracy: 0.9822\n",
            "Epoch 3/10\n",
            "750/750 [==============================] - 8s 11ms/step - loss: 0.0369 - accuracy: 0.9893\n",
            "Epoch 4/10\n",
            "750/750 [==============================] - 8s 11ms/step - loss: 0.0283 - accuracy: 0.9916\n",
            "Epoch 5/10\n",
            "750/750 [==============================] - 8s 11ms/step - loss: 0.0193 - accuracy: 0.9943\n",
            "Epoch 6/10\n",
            "750/750 [==============================] - 8s 11ms/step - loss: 0.0141 - accuracy: 0.9962\n",
            "Epoch 7/10\n",
            "750/750 [==============================] - 8s 11ms/step - loss: 0.0097 - accuracy: 0.9972\n",
            "Epoch 8/10\n",
            "750/750 [==============================] - 8s 11ms/step - loss: 0.0075 - accuracy: 0.9981\n",
            "Epoch 9/10\n",
            "750/750 [==============================] - 8s 11ms/step - loss: 0.0051 - accuracy: 0.9985\n",
            "Epoch 10/10\n",
            "750/750 [==============================] - 8s 11ms/step - loss: 0.0039 - accuracy: 0.9990\n",
            "188/188 [==============================] - 1s 5ms/step - loss: 0.0360 - accuracy: 0.9905\n",
            "Epoch 1/10\n",
            "750/750 [==============================] - 9s 11ms/step - loss: 0.3451 - accuracy: 0.8984\n",
            "Epoch 2/10\n",
            "750/750 [==============================] - 8s 11ms/step - loss: 0.0586 - accuracy: 0.9820\n",
            "Epoch 3/10\n",
            "750/750 [==============================] - 8s 11ms/step - loss: 0.0378 - accuracy: 0.9884\n",
            "Epoch 4/10\n",
            "750/750 [==============================] - 8s 11ms/step - loss: 0.0255 - accuracy: 0.9924\n",
            "Epoch 5/10\n",
            "750/750 [==============================] - 8s 11ms/step - loss: 0.0182 - accuracy: 0.9946\n",
            "Epoch 6/10\n",
            "750/750 [==============================] - 8s 11ms/step - loss: 0.0140 - accuracy: 0.9960\n",
            "Epoch 7/10\n",
            "750/750 [==============================] - 8s 11ms/step - loss: 0.0097 - accuracy: 0.9972\n",
            "Epoch 8/10\n",
            "750/750 [==============================] - 8s 11ms/step - loss: 0.0082 - accuracy: 0.9978\n",
            "Epoch 9/10\n",
            "750/750 [==============================] - 8s 11ms/step - loss: 0.0049 - accuracy: 0.9985\n",
            "Epoch 10/10\n",
            "750/750 [==============================] - 8s 11ms/step - loss: 0.0033 - accuracy: 0.9992\n",
            "188/188 [==============================] - 1s 4ms/step - loss: 0.0456 - accuracy: 0.9883\n",
            "Epoch 1/10\n",
            "750/750 [==============================] - 9s 11ms/step - loss: 0.3605 - accuracy: 0.8958\n",
            "Epoch 2/10\n",
            "750/750 [==============================] - 8s 11ms/step - loss: 0.0565 - accuracy: 0.9829\n",
            "Epoch 3/10\n",
            "750/750 [==============================] - 8s 11ms/step - loss: 0.0370 - accuracy: 0.9893\n",
            "Epoch 4/10\n",
            "750/750 [==============================] - 8s 11ms/step - loss: 0.0271 - accuracy: 0.9920\n",
            "Epoch 5/10\n",
            "750/750 [==============================] - 8s 11ms/step - loss: 0.0181 - accuracy: 0.9945\n",
            "Epoch 6/10\n",
            "750/750 [==============================] - 8s 11ms/step - loss: 0.0122 - accuracy: 0.9963\n",
            "Epoch 7/10\n",
            "750/750 [==============================] - 8s 11ms/step - loss: 0.0092 - accuracy: 0.9974\n",
            "Epoch 8/10\n",
            "750/750 [==============================] - 8s 11ms/step - loss: 0.0070 - accuracy: 0.9981\n",
            "Epoch 9/10\n",
            "750/750 [==============================] - 8s 11ms/step - loss: 0.0044 - accuracy: 0.9988\n",
            "Epoch 10/10\n",
            "750/750 [==============================] - 8s 11ms/step - loss: 0.0042 - accuracy: 0.9988\n",
            "188/188 [==============================] - 1s 5ms/step - loss: 0.0491 - accuracy: 0.9878\n",
            "Epoch 1/10\n",
            "750/750 [==============================] - 9s 11ms/step - loss: 0.3522 - accuracy: 0.8962\n",
            "Epoch 2/10\n",
            "750/750 [==============================] - 8s 11ms/step - loss: 0.0550 - accuracy: 0.9832\n",
            "Epoch 3/10\n",
            "750/750 [==============================] - 8s 11ms/step - loss: 0.0350 - accuracy: 0.9889\n",
            "Epoch 4/10\n",
            "750/750 [==============================] - 8s 11ms/step - loss: 0.0239 - accuracy: 0.9922\n",
            "Epoch 5/10\n",
            "750/750 [==============================] - 8s 11ms/step - loss: 0.0175 - accuracy: 0.9948\n",
            "Epoch 6/10\n",
            "750/750 [==============================] - 8s 11ms/step - loss: 0.0144 - accuracy: 0.9953\n",
            "Epoch 7/10\n",
            "750/750 [==============================] - 8s 11ms/step - loss: 0.0085 - accuracy: 0.9977\n",
            "Epoch 8/10\n",
            "750/750 [==============================] - 8s 11ms/step - loss: 0.0063 - accuracy: 0.9981\n",
            "Epoch 9/10\n",
            "750/750 [==============================] - 8s 11ms/step - loss: 0.0060 - accuracy: 0.9983\n",
            "Epoch 10/10\n",
            "750/750 [==============================] - 8s 11ms/step - loss: 0.0043 - accuracy: 0.9986\n",
            "188/188 [==============================] - 1s 5ms/step - loss: 0.0433 - accuracy: 0.9900\n",
            "Epoch 1/10\n",
            "750/750 [==============================] - 8s 9ms/step - loss: 0.3939 - accuracy: 0.8816\n",
            "Epoch 2/10\n",
            "750/750 [==============================] - 7s 10ms/step - loss: 0.0560 - accuracy: 0.9836\n",
            "Epoch 3/10\n",
            "750/750 [==============================] - 7s 10ms/step - loss: 0.0401 - accuracy: 0.9880\n",
            "Epoch 4/10\n",
            "750/750 [==============================] - 7s 10ms/step - loss: 0.0310 - accuracy: 0.9905\n",
            "Epoch 5/10\n",
            "750/750 [==============================] - 7s 10ms/step - loss: 0.0231 - accuracy: 0.9924\n",
            "Epoch 6/10\n",
            "750/750 [==============================] - 7s 10ms/step - loss: 0.0150 - accuracy: 0.9956\n",
            "Epoch 7/10\n",
            "750/750 [==============================] - 7s 10ms/step - loss: 0.0118 - accuracy: 0.9968\n",
            "Epoch 8/10\n",
            "750/750 [==============================] - 7s 10ms/step - loss: 0.0125 - accuracy: 0.9961\n",
            "Epoch 9/10\n",
            "750/750 [==============================] - 7s 10ms/step - loss: 0.0099 - accuracy: 0.9973\n",
            "Epoch 10/10\n",
            "750/750 [==============================] - 7s 10ms/step - loss: 0.0102 - accuracy: 0.9969\n",
            "188/188 [==============================] - 1s 5ms/step - loss: 0.0458 - accuracy: 0.9873\n",
            "Epoch 1/10\n",
            "750/750 [==============================] - 8s 10ms/step - loss: 0.4008 - accuracy: 0.8842\n",
            "Epoch 2/10\n",
            "750/750 [==============================] - 7s 10ms/step - loss: 0.0552 - accuracy: 0.9839\n",
            "Epoch 3/10\n",
            "750/750 [==============================] - 7s 10ms/step - loss: 0.0395 - accuracy: 0.9883\n",
            "Epoch 4/10\n",
            "750/750 [==============================] - 7s 10ms/step - loss: 0.0258 - accuracy: 0.9922\n",
            "Epoch 5/10\n",
            "750/750 [==============================] - 7s 10ms/step - loss: 0.0222 - accuracy: 0.9930\n",
            "Epoch 6/10\n",
            "750/750 [==============================] - 7s 10ms/step - loss: 0.0154 - accuracy: 0.9959\n",
            "Epoch 7/10\n",
            "750/750 [==============================] - 7s 10ms/step - loss: 0.0144 - accuracy: 0.9955\n",
            "Epoch 8/10\n",
            "750/750 [==============================] - 7s 10ms/step - loss: 0.0120 - accuracy: 0.9963\n",
            "Epoch 9/10\n",
            "750/750 [==============================] - 7s 10ms/step - loss: 0.0099 - accuracy: 0.9973\n",
            "Epoch 10/10\n",
            "750/750 [==============================] - 7s 10ms/step - loss: 0.0088 - accuracy: 0.9976\n",
            "188/188 [==============================] - 1s 5ms/step - loss: 0.0428 - accuracy: 0.9883\n",
            "Epoch 1/10\n",
            "750/750 [==============================] - 8s 10ms/step - loss: 0.4214 - accuracy: 0.8775\n",
            "Epoch 2/10\n",
            "750/750 [==============================] - 7s 10ms/step - loss: 0.0613 - accuracy: 0.9821\n",
            "Epoch 3/10\n",
            "750/750 [==============================] - 7s 10ms/step - loss: 0.0367 - accuracy: 0.9893\n",
            "Epoch 4/10\n",
            "750/750 [==============================] - 7s 10ms/step - loss: 0.0315 - accuracy: 0.9910\n",
            "Epoch 5/10\n",
            "750/750 [==============================] - 7s 9ms/step - loss: 0.0213 - accuracy: 0.9931\n",
            "Epoch 6/10\n",
            "750/750 [==============================] - 7s 10ms/step - loss: 0.0199 - accuracy: 0.9938\n",
            "Epoch 7/10\n",
            "750/750 [==============================] - 7s 10ms/step - loss: 0.0124 - accuracy: 0.9965\n",
            "Epoch 8/10\n",
            "750/750 [==============================] - 7s 10ms/step - loss: 0.0114 - accuracy: 0.9973\n",
            "Epoch 9/10\n",
            "750/750 [==============================] - 7s 10ms/step - loss: 0.0093 - accuracy: 0.9973\n",
            "Epoch 10/10\n",
            "750/750 [==============================] - 7s 10ms/step - loss: 0.0104 - accuracy: 0.9969\n",
            "188/188 [==============================] - 1s 5ms/step - loss: 0.0452 - accuracy: 0.9870\n",
            "Epoch 1/10\n",
            "750/750 [==============================] - 8s 10ms/step - loss: 0.4075 - accuracy: 0.8803\n",
            "Epoch 2/10\n",
            "750/750 [==============================] - 7s 10ms/step - loss: 0.0564 - accuracy: 0.9831\n",
            "Epoch 3/10\n",
            "750/750 [==============================] - 7s 10ms/step - loss: 0.0341 - accuracy: 0.9901\n",
            "Epoch 4/10\n",
            "750/750 [==============================] - 7s 10ms/step - loss: 0.0274 - accuracy: 0.9915\n",
            "Epoch 5/10\n",
            "750/750 [==============================] - 7s 10ms/step - loss: 0.0204 - accuracy: 0.9938\n",
            "Epoch 6/10\n",
            "750/750 [==============================] - 7s 10ms/step - loss: 0.0164 - accuracy: 0.9950\n",
            "Epoch 7/10\n",
            "750/750 [==============================] - 7s 10ms/step - loss: 0.0117 - accuracy: 0.9969\n",
            "Epoch 8/10\n",
            "750/750 [==============================] - 7s 10ms/step - loss: 0.0100 - accuracy: 0.9974\n",
            "Epoch 9/10\n",
            "750/750 [==============================] - 7s 10ms/step - loss: 0.0105 - accuracy: 0.9967\n",
            "Epoch 10/10\n",
            "750/750 [==============================] - 7s 10ms/step - loss: 0.0071 - accuracy: 0.9978\n",
            "188/188 [==============================] - 1s 5ms/step - loss: 0.0497 - accuracy: 0.9856\n",
            "Epoch 1/10\n",
            "750/750 [==============================] - 8s 10ms/step - loss: 0.4008 - accuracy: 0.8905\n",
            "Epoch 2/10\n",
            "750/750 [==============================] - 7s 10ms/step - loss: 0.0616 - accuracy: 0.9815\n",
            "Epoch 3/10\n",
            "750/750 [==============================] - 7s 10ms/step - loss: 0.0375 - accuracy: 0.9888\n",
            "Epoch 4/10\n",
            "750/750 [==============================] - 7s 10ms/step - loss: 0.0275 - accuracy: 0.9917\n",
            "Epoch 5/10\n",
            "750/750 [==============================] - 7s 10ms/step - loss: 0.0222 - accuracy: 0.9935\n",
            "Epoch 6/10\n",
            "750/750 [==============================] - 7s 10ms/step - loss: 0.0144 - accuracy: 0.9961\n",
            "Epoch 7/10\n",
            "750/750 [==============================] - 7s 10ms/step - loss: 0.0138 - accuracy: 0.9959\n",
            "Epoch 8/10\n",
            "750/750 [==============================] - 7s 10ms/step - loss: 0.0100 - accuracy: 0.9972\n",
            "Epoch 9/10\n",
            "750/750 [==============================] - 7s 10ms/step - loss: 0.0106 - accuracy: 0.9972\n",
            "Epoch 10/10\n",
            "750/750 [==============================] - 7s 10ms/step - loss: 0.0072 - accuracy: 0.9979\n",
            "188/188 [==============================] - 1s 5ms/step - loss: 0.0434 - accuracy: 0.9882\n",
            "Epoch 1/10\n"
          ],
          "name": "stdout"
        },
        {
          "output_type": "stream",
          "text": [
            "[Parallel(n_jobs=1)]: Done  20 out of  20 | elapsed: 25.8min finished\n"
          ],
          "name": "stderr"
        },
        {
          "output_type": "stream",
          "text": [
            "938/938 [==============================] - 9s 8ms/step - loss: 0.3810 - accuracy: 0.8779\n",
            "Epoch 2/10\n",
            "938/938 [==============================] - 7s 8ms/step - loss: 0.0506 - accuracy: 0.9841\n",
            "Epoch 3/10\n",
            "938/938 [==============================] - 7s 8ms/step - loss: 0.0337 - accuracy: 0.9894\n",
            "Epoch 4/10\n",
            "938/938 [==============================] - 7s 8ms/step - loss: 0.0243 - accuracy: 0.9922\n",
            "Epoch 5/10\n",
            "938/938 [==============================] - 7s 8ms/step - loss: 0.0186 - accuracy: 0.9941\n",
            "Epoch 6/10\n",
            "938/938 [==============================] - 7s 8ms/step - loss: 0.0164 - accuracy: 0.9953\n",
            "Epoch 7/10\n",
            "938/938 [==============================] - 7s 8ms/step - loss: 0.0111 - accuracy: 0.9966\n",
            "Epoch 8/10\n",
            "938/938 [==============================] - 7s 8ms/step - loss: 0.0102 - accuracy: 0.9972\n",
            "Epoch 9/10\n",
            "938/938 [==============================] - 7s 8ms/step - loss: 0.0079 - accuracy: 0.9975\n",
            "Epoch 10/10\n",
            "938/938 [==============================] - 7s 8ms/step - loss: 0.0065 - accuracy: 0.9980\n",
            "Best: 0.9904500007629394, using {'activation': 'relu', 'optimizer': 'RMSprop'}\n"
          ],
          "name": "stdout"
        }
      ]
    }
  ]
}