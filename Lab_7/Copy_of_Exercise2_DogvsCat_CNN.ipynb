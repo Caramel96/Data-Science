{
  "nbformat": 4,
  "nbformat_minor": 0,
  "metadata": {
    "colab": {
      "name": "Copy of Exercise2_DogvsCat_CNN.ipynb",
      "provenance": [],
      "collapsed_sections": [],
      "include_colab_link": true
    },
    "kernelspec": {
      "name": "python3",
      "display_name": "Python 3"
    },
    "accelerator": "GPU"
  },
  "cells": [
    {
      "cell_type": "markdown",
      "metadata": {
        "id": "view-in-github",
        "colab_type": "text"
      },
      "source": [
        "<a href=\"https://colab.research.google.com/github/Caramel96/Samuel_BuckbyCE888/blob/main/Lab_7/Copy_of_Exercise2_DogvsCat_CNN.ipynb\" target=\"_parent\"><img src=\"https://colab.research.google.com/assets/colab-badge.svg\" alt=\"Open In Colab\"/></a>"
      ]
    },
    {
      "cell_type": "markdown",
      "metadata": {
        "id": "qTh9DiKVslsJ"
      },
      "source": [
        "## Dogs vs. Cats \n",
        "\n",
        "In this competition, you'll write an algorithm to classify whether images contain either a dog or a cat.  This is easy for humans, dogs, and cats. Your computer will find it a bit more difficult.\n",
        "\n",
        "![alt text](https://miro.medium.com/max/3000/1*bhFifratH9DjKqMBTeQG5A.gif)\n",
        "\n",
        "Ref: https://medium.com/@thegrigorian/rolling-in-the-deep-cnn-c8d3f7108c8c"
      ]
    },
    {
      "cell_type": "markdown",
      "metadata": {
        "id": "RSBI-_mSSY1g"
      },
      "source": [
        "Get your API Key from Kaggle using following steps:\n",
        "1. Login to [Kaggle](https://www.kaggle.com/) or Register if you don't have account\n",
        "2. Open Dataset (https://www.kaggle.com/c/dogs-vs-cats/rules) and accept terms and condition. \n",
        "3. On the top right corner click on your Icon and go to accounts and press a button \"Create New API Token\". It will download a JSON file containing your username and key. \n",
        "4. Now, paste both below. \n"
      ]
    },
    {
      "cell_type": "code",
      "metadata": {
        "id": "YmXSOc0tZIGA",
        "colab": {
          "base_uri": "https://localhost:8080/"
        },
        "outputId": "199f3588-385e-4e0c-e1d7-e124d9066528"
      },
      "source": [
        "import os\n",
        "os.environ['KAGGLE_USERNAME'] = \"sampbhotmailcouk\" # username from the json file\n",
        "os.environ['KAGGLE_KEY'] = \"cc7e25aacf78e1fd987691309e235702\" # key from the json file\n",
        "!kaggle competitions download -c dogs-vs-cats # api copied from kaggle (https://www.kaggle.com/c/dogs-vs-cats/data)"
      ],
      "execution_count": 1,
      "outputs": [
        {
          "output_type": "stream",
          "text": [
            "Warning: Looks like you're using an outdated API Version, please consider updating (server 1.5.12 / client 1.5.4)\n",
            "Downloading sampleSubmission.csv to /content\n",
            "  0% 0.00/86.8k [00:00<?, ?B/s]\n",
            "100% 86.8k/86.8k [00:00<00:00, 33.1MB/s]\n",
            "Downloading train.zip to /content\n",
            "100% 543M/543M [00:13<00:00, 27.7MB/s]\n",
            "100% 543M/543M [00:13<00:00, 41.5MB/s]\n",
            "Downloading test1.zip to /content\n",
            " 98% 267M/271M [00:07<00:00, 31.5MB/s]\n",
            "100% 271M/271M [00:07<00:00, 38.5MB/s]\n"
          ],
          "name": "stdout"
        }
      ]
    },
    {
      "cell_type": "code",
      "metadata": {
        "id": "PiwIL8d1n7eS",
        "colab": {
          "base_uri": "https://localhost:8080/"
        },
        "outputId": "88b2f0af-f365-400f-f487-4e7093ebca2b"
      },
      "source": [
        "# Unzip training data\n",
        "from zipfile import ZipFile\n",
        "file_name = \"/content/train.zip\"\n",
        "with ZipFile(file_name, 'r') as zip:\n",
        "  zip.extractall()\n",
        "  print('done')"
      ],
      "execution_count": 2,
      "outputs": [
        {
          "output_type": "stream",
          "text": [
            "done\n"
          ],
          "name": "stdout"
        }
      ]
    },
    {
      "cell_type": "code",
      "metadata": {
        "id": "sa2Bj5i7pPKV",
        "colab": {
          "base_uri": "https://localhost:8080/"
        },
        "outputId": "e2ca642e-cc18-4d94-eb12-d7d711dc34fe"
      },
      "source": [
        "# Get all the paths\n",
        "data_dir_list = os.listdir('/content/train')\n",
        "#print(data_dir_list)\n",
        "path, dirs, files = next(os.walk(\"/content/train\"))\n",
        "file_count = len(files)\n",
        "print(file_count)"
      ],
      "execution_count": 3,
      "outputs": [
        {
          "output_type": "stream",
          "text": [
            "25000\n"
          ],
          "name": "stdout"
        }
      ]
    },
    {
      "cell_type": "code",
      "metadata": {
        "id": "0ERlHkfHqpK8"
      },
      "source": [
        "# Make new base directory\n",
        "original_dataset_dir = '/content/train'\n",
        "base_dir = '/content/cats_and_dogs_small'\n",
        "os.mkdir(base_dir)"
      ],
      "execution_count": 4,
      "outputs": []
    },
    {
      "cell_type": "code",
      "metadata": {
        "id": "AANB1UJ6rQhM"
      },
      "source": [
        "train_dir = os.path.join(base_dir, 'train')\n",
        "os.mkdir(train_dir)\n",
        "\n",
        "validation_dir = os.path.join(base_dir, 'validation')\n",
        "os.mkdir(validation_dir)\n",
        "\n",
        "test_dir = os.path.join(base_dir, 'test')\n",
        "os.mkdir(test_dir)\n",
        "\n",
        "train_cats_dir = os.path.join(train_dir, 'cats')\n",
        "os.mkdir(train_cats_dir)\n",
        "\n",
        "train_dogs_dir = os.path.join(train_dir, 'dogs')\n",
        "os.mkdir(train_dogs_dir)\n",
        "\n",
        "validation_cats_dir = os.path.join(validation_dir, 'cats')\n",
        "os.mkdir(validation_cats_dir)\n",
        "\n",
        "validation_dogs_dir = os.path.join(validation_dir, 'dogs')\n",
        "os.mkdir(validation_dogs_dir)\n",
        "\n",
        "test_cats_dir = os.path.join(test_dir, 'cats')\n",
        "os.mkdir(test_cats_dir)\n",
        "\n",
        "test_dogs_dir = os.path.join(test_dir, 'dogs')\n",
        "os.mkdir(test_dogs_dir)"
      ],
      "execution_count": 5,
      "outputs": []
    },
    {
      "cell_type": "code",
      "metadata": {
        "id": "ULRgL9s9rV8T"
      },
      "source": [
        "import shutil\n",
        "fnames = ['cat.{}.jpg'.format(i) for i in range(1000)]\n",
        "for fname in fnames:\n",
        "    src = os.path.join(original_dataset_dir, fname)\n",
        "    dst = os.path.join(train_cats_dir, fname)\n",
        "    #print(src,dst)\n",
        "    shutil.copyfile(src, dst)\n",
        "    \n",
        "fnames = ['cat.{}.jpg'.format(i) for i in range(1000, 1500)]\n",
        "for fname in fnames:\n",
        "    src = os.path.join(original_dataset_dir, fname)\n",
        "    dst = os.path.join(validation_cats_dir, fname)\n",
        "    shutil.copyfile(src, dst)\n",
        "\n",
        "fnames = ['cat.{}.jpg'.format(i) for i in range(1500, 2000)]\n",
        "for fname in fnames:\n",
        "    src = os.path.join(original_dataset_dir, fname)\n",
        "    dst = os.path.join(test_cats_dir, fname)\n",
        "    shutil.copyfile(src, dst)\n",
        "    \n",
        "fnames = ['dog.{}.jpg'.format(i) for i in range(1000)]\n",
        "for fname in fnames:\n",
        "    src = os.path.join(original_dataset_dir, fname)\n",
        "    dst = os.path.join(train_dogs_dir, fname)\n",
        "    shutil.copyfile(src, dst)\n",
        "\n",
        "fnames = ['dog.{}.jpg'.format(i) for i in range(1000, 1500)]\n",
        "for fname in fnames:\n",
        "    src = os.path.join(original_dataset_dir, fname)\n",
        "    dst = os.path.join(validation_dogs_dir, fname)\n",
        "    shutil.copyfile(src, dst)\n",
        "\n",
        "fnames = ['dog.{}.jpg'.format(i) for i in range(1500, 2000)]\n",
        "for fname in fnames:\n",
        "    src = os.path.join(original_dataset_dir, fname)\n",
        "    dst = os.path.join(test_dogs_dir, fname)\n",
        "    shutil.copyfile(src, dst)"
      ],
      "execution_count": 6,
      "outputs": []
    },
    {
      "cell_type": "code",
      "metadata": {
        "id": "ul3XAbIyr7vC",
        "colab": {
          "base_uri": "https://localhost:8080/"
        },
        "outputId": "d6d6387d-6c18-496b-d068-10b43f32afbe"
      },
      "source": [
        "print('total training cat images:', len(os.listdir(train_cats_dir)))\n",
        "print('total training dog images:', len(os.listdir(train_dogs_dir)))\n",
        "print('total validation cat images:', len(os.listdir(validation_cats_dir)))\n",
        "\n",
        "print('total validation dog images:', len(os.listdir(validation_dogs_dir)))\n",
        "print('total test cat images:', len(os.listdir(test_cats_dir)))\n",
        "print('total test dog images:', len(os.listdir(test_dogs_dir)))"
      ],
      "execution_count": 7,
      "outputs": [
        {
          "output_type": "stream",
          "text": [
            "total training cat images: 1000\n",
            "total training dog images: 1000\n",
            "total validation cat images: 500\n",
            "total validation dog images: 500\n",
            "total test cat images: 500\n",
            "total test dog images: 500\n"
          ],
          "name": "stdout"
        }
      ]
    },
    {
      "cell_type": "code",
      "metadata": {
        "id": "o9yTA21_r-ma",
        "colab": {
          "base_uri": "https://localhost:8080/"
        },
        "outputId": "e9b19b49-614f-48f2-c657-fe5cab88403a"
      },
      "source": [
        "from keras import layers\n",
        "from keras import models\n",
        "\n",
        "model = models.Sequential()\n",
        "model.add(layers.Conv2D(32, (3, 3), activation='relu', input_shape=(150, 150, 3)))\n",
        "model.add(layers.MaxPooling2D((2, 2)))\n",
        "model.add(layers.Conv2D(64, (3, 3), activation='relu'))\n",
        "model.add(layers.MaxPooling2D((2, 2)))\n",
        "model.add(layers.Conv2D(128, (3, 3), activation='relu'))\n",
        "model.add(layers.MaxPooling2D((2, 2)))\n",
        "model.add(layers.Conv2D(128, (3, 3), activation='relu'))\n",
        "model.add(layers.MaxPooling2D((2, 2)))\n",
        "model.add(layers.Flatten())\n",
        "model.add(layers.Dense(512, activation='relu'))\n",
        "model.add(layers.Dense(1, activation='sigmoid'))\n",
        "model.summary()"
      ],
      "execution_count": 8,
      "outputs": [
        {
          "output_type": "stream",
          "text": [
            "Model: \"sequential\"\n",
            "_________________________________________________________________\n",
            "Layer (type)                 Output Shape              Param #   \n",
            "=================================================================\n",
            "conv2d (Conv2D)              (None, 148, 148, 32)      896       \n",
            "_________________________________________________________________\n",
            "max_pooling2d (MaxPooling2D) (None, 74, 74, 32)        0         \n",
            "_________________________________________________________________\n",
            "conv2d_1 (Conv2D)            (None, 72, 72, 64)        18496     \n",
            "_________________________________________________________________\n",
            "max_pooling2d_1 (MaxPooling2 (None, 36, 36, 64)        0         \n",
            "_________________________________________________________________\n",
            "conv2d_2 (Conv2D)            (None, 34, 34, 128)       73856     \n",
            "_________________________________________________________________\n",
            "max_pooling2d_2 (MaxPooling2 (None, 17, 17, 128)       0         \n",
            "_________________________________________________________________\n",
            "conv2d_3 (Conv2D)            (None, 15, 15, 128)       147584    \n",
            "_________________________________________________________________\n",
            "max_pooling2d_3 (MaxPooling2 (None, 7, 7, 128)         0         \n",
            "_________________________________________________________________\n",
            "flatten (Flatten)            (None, 6272)              0         \n",
            "_________________________________________________________________\n",
            "dense (Dense)                (None, 512)               3211776   \n",
            "_________________________________________________________________\n",
            "dense_1 (Dense)              (None, 1)                 513       \n",
            "=================================================================\n",
            "Total params: 3,453,121\n",
            "Trainable params: 3,453,121\n",
            "Non-trainable params: 0\n",
            "_________________________________________________________________\n"
          ],
          "name": "stdout"
        }
      ]
    },
    {
      "cell_type": "code",
      "metadata": {
        "id": "2mG8wekxsBVS"
      },
      "source": [
        "from keras import optimizers\n",
        "model.compile(loss='binary_crossentropy', \n",
        "              optimizer=optimizers.RMSprop(lr=1e-4),\n",
        "              metrics=['acc'])"
      ],
      "execution_count": 9,
      "outputs": []
    },
    {
      "cell_type": "markdown",
      "metadata": {
        "id": "7zS4Klm8qWp6"
      },
      "source": [
        "## Using ImageDataGenerator to read images from directories\n",
        "As you know by now, data should be formatted into appropriately preprocessed floatingpoint tensors before being fed into the network. Currently, the data sits on a drive as JPEG files, so the steps for getting it into the network are roughly as follows:\n",
        "\n",
        "* Read the picture files.\n",
        "* Decode the JPEG content to RGB grids of pixels.\n",
        "* Convert these into floating-point tensors.\n",
        "* Rescale the pixel values (between 0 and 255) to the [0, 1] interval (as you know, neural networks prefer to deal with small input values).\n",
        "\n",
        "It may seem a bit daunting, but fortunately Keras has utilities to take care of these steps automatically. Keras has a module with image-processing helper tools, located at keras.preprocessing.image. In particular, it contains the class ImageDataGenerator,which lets you quickly set up Python generators that can automatically turn image files on disk into batches of preprocessed tensors."
      ]
    },
    {
      "cell_type": "code",
      "metadata": {
        "id": "XJ7XU7t9sEh6",
        "colab": {
          "base_uri": "https://localhost:8080/"
        },
        "outputId": "1279d182-daea-466c-9ed2-4c9a580a06e1"
      },
      "source": [
        "from keras.preprocessing.image import ImageDataGenerator\n",
        "\n",
        "train_datagen = ImageDataGenerator(rescale=1./255)\n",
        "test_datagen = ImageDataGenerator(rescale=1./255)\n",
        "\n",
        "train_generator = train_datagen.flow_from_directory(train_dir,\n",
        "                                                    target_size=(150, 150), \n",
        "                                                    batch_size=20,\n",
        "                                                    class_mode='binary')\n",
        "\n",
        "validation_generator = test_datagen.flow_from_directory(validation_dir,\n",
        "                                                        target_size=(150, 150),\n",
        "                                                        batch_size=20,\n",
        "                                                        class_mode='binary')"
      ],
      "execution_count": 10,
      "outputs": [
        {
          "output_type": "stream",
          "text": [
            "Found 2000 images belonging to 2 classes.\n",
            "Found 1000 images belonging to 2 classes.\n"
          ],
          "name": "stdout"
        }
      ]
    },
    {
      "cell_type": "markdown",
      "metadata": {
        "id": "SEgLywySqm4u"
      },
      "source": [
        "Let’s fit the model to the data using the generator. You do so using the fit_generator method, the equivalent of fit for data generators like this one. It expects as its first argument a Python generator that will yield batches of inputs and targets indefinitely,like this one does. Because the data is being generated endlessly, the Keras model needs to know how many samples to draw from the generator before declaring anepoch over. This is the role of the `steps_per_epoch` argument: after having drawn `steps_per_epoch` batches from the generator—that is, after having run for `steps_per_epoch` gradient descent steps—the fitting process will go to the next epoch. In this case, batches are 20 samples, so it will take 100 batches until you see your target of 2,000 samples.\n",
        "\n",
        "When using fit_generator, you can pass a validation_data argument, much as with the fit method. It’s important to note that this argument is allowed to be a data generator, but it could also be a tuple of Numpy arrays. If you pass a generator as validation_data, then this generator is expected to yield batches of validation data endlessly; thus you should also specify the validation_steps argument, which tells the process how many batches to draw from the validation generator for evaluation."
      ]
    },
    {
      "cell_type": "code",
      "metadata": {
        "id": "yMyfPphJsJG6",
        "colab": {
          "base_uri": "https://localhost:8080/"
        },
        "outputId": "fc6036f2-14de-487e-ab7a-4cf4ee52332a"
      },
      "source": [
        "history = model.fit_generator(train_generator,\n",
        "                              steps_per_epoch=100,\n",
        "                              epochs=30,\n",
        "                              validation_data=validation_generator,\n",
        "                              validation_steps=10)"
      ],
      "execution_count": 11,
      "outputs": [
        {
          "output_type": "stream",
          "text": [
            "/usr/local/lib/python3.7/dist-packages/tensorflow/python/keras/engine/training.py:1844: UserWarning: `Model.fit_generator` is deprecated and will be removed in a future version. Please use `Model.fit`, which supports generators.\n",
            "  warnings.warn('`Model.fit_generator` is deprecated and '\n"
          ],
          "name": "stderr"
        },
        {
          "output_type": "stream",
          "text": [
            "Epoch 1/30\n",
            "100/100 [==============================] - 40s 94ms/step - loss: 0.7036 - acc: 0.5084 - val_loss: 0.6778 - val_acc: 0.5750\n",
            "Epoch 2/30\n",
            "100/100 [==============================] - 9s 90ms/step - loss: 0.6620 - acc: 0.6105 - val_loss: 0.6599 - val_acc: 0.5950\n",
            "Epoch 3/30\n",
            "100/100 [==============================] - 9s 90ms/step - loss: 0.6236 - acc: 0.6556 - val_loss: 0.6517 - val_acc: 0.6300\n",
            "Epoch 4/30\n",
            "100/100 [==============================] - 9s 91ms/step - loss: 0.5854 - acc: 0.6859 - val_loss: 0.6053 - val_acc: 0.6300\n",
            "Epoch 5/30\n",
            "100/100 [==============================] - 9s 90ms/step - loss: 0.5504 - acc: 0.7238 - val_loss: 0.5863 - val_acc: 0.7100\n",
            "Epoch 6/30\n",
            "100/100 [==============================] - 9s 89ms/step - loss: 0.5249 - acc: 0.7328 - val_loss: 0.5555 - val_acc: 0.6950\n",
            "Epoch 7/30\n",
            "100/100 [==============================] - 9s 91ms/step - loss: 0.4930 - acc: 0.7540 - val_loss: 0.5720 - val_acc: 0.7000\n",
            "Epoch 8/30\n",
            "100/100 [==============================] - 9s 91ms/step - loss: 0.4686 - acc: 0.7763 - val_loss: 0.5259 - val_acc: 0.7150\n",
            "Epoch 9/30\n",
            "100/100 [==============================] - 9s 90ms/step - loss: 0.4396 - acc: 0.7762 - val_loss: 0.6760 - val_acc: 0.6450\n",
            "Epoch 10/30\n",
            "100/100 [==============================] - 9s 89ms/step - loss: 0.4009 - acc: 0.8236 - val_loss: 0.5946 - val_acc: 0.7250\n",
            "Epoch 11/30\n",
            "100/100 [==============================] - 9s 89ms/step - loss: 0.3657 - acc: 0.8418 - val_loss: 0.5139 - val_acc: 0.7600\n",
            "Epoch 12/30\n",
            "100/100 [==============================] - 9s 89ms/step - loss: 0.3466 - acc: 0.8526 - val_loss: 0.6451 - val_acc: 0.7050\n",
            "Epoch 13/30\n",
            "100/100 [==============================] - 9s 89ms/step - loss: 0.3413 - acc: 0.8558 - val_loss: 0.5847 - val_acc: 0.7000\n",
            "Epoch 14/30\n",
            "100/100 [==============================] - 9s 89ms/step - loss: 0.3013 - acc: 0.8754 - val_loss: 0.5681 - val_acc: 0.7450\n",
            "Epoch 15/30\n",
            "100/100 [==============================] - 9s 88ms/step - loss: 0.2835 - acc: 0.8850 - val_loss: 0.5335 - val_acc: 0.7550\n",
            "Epoch 16/30\n",
            "100/100 [==============================] - 9s 89ms/step - loss: 0.2669 - acc: 0.8890 - val_loss: 0.5994 - val_acc: 0.7300\n",
            "Epoch 17/30\n",
            "100/100 [==============================] - 9s 90ms/step - loss: 0.2298 - acc: 0.9113 - val_loss: 0.9538 - val_acc: 0.6650\n",
            "Epoch 18/30\n",
            "100/100 [==============================] - 9s 89ms/step - loss: 0.2200 - acc: 0.9120 - val_loss: 0.5859 - val_acc: 0.7450\n",
            "Epoch 19/30\n",
            "100/100 [==============================] - 9s 88ms/step - loss: 0.1969 - acc: 0.9320 - val_loss: 0.5969 - val_acc: 0.7350\n",
            "Epoch 20/30\n",
            "100/100 [==============================] - 9s 88ms/step - loss: 0.1708 - acc: 0.9391 - val_loss: 0.7232 - val_acc: 0.7200\n",
            "Epoch 21/30\n",
            "100/100 [==============================] - 9s 89ms/step - loss: 0.1461 - acc: 0.9524 - val_loss: 0.8050 - val_acc: 0.7000\n",
            "Epoch 22/30\n",
            "100/100 [==============================] - 9s 88ms/step - loss: 0.1431 - acc: 0.9415 - val_loss: 0.7203 - val_acc: 0.7050\n",
            "Epoch 23/30\n",
            "100/100 [==============================] - 9s 90ms/step - loss: 0.1188 - acc: 0.9598 - val_loss: 0.8698 - val_acc: 0.7200\n",
            "Epoch 24/30\n",
            "100/100 [==============================] - 9s 89ms/step - loss: 0.1001 - acc: 0.9628 - val_loss: 0.8384 - val_acc: 0.7150\n",
            "Epoch 25/30\n",
            "100/100 [==============================] - 9s 89ms/step - loss: 0.0929 - acc: 0.9697 - val_loss: 0.7126 - val_acc: 0.7350\n",
            "Epoch 26/30\n",
            "100/100 [==============================] - 9s 88ms/step - loss: 0.0650 - acc: 0.9845 - val_loss: 0.8106 - val_acc: 0.7500\n",
            "Epoch 27/30\n",
            "100/100 [==============================] - 9s 89ms/step - loss: 0.0579 - acc: 0.9839 - val_loss: 1.0029 - val_acc: 0.7000\n",
            "Epoch 28/30\n",
            "100/100 [==============================] - 9s 87ms/step - loss: 0.0560 - acc: 0.9833 - val_loss: 0.9692 - val_acc: 0.7100\n",
            "Epoch 29/30\n",
            "100/100 [==============================] - 9s 89ms/step - loss: 0.0449 - acc: 0.9886 - val_loss: 1.3080 - val_acc: 0.6800\n",
            "Epoch 30/30\n",
            "100/100 [==============================] - 9s 90ms/step - loss: 0.0388 - acc: 0.9916 - val_loss: 0.9195 - val_acc: 0.7200\n"
          ],
          "name": "stdout"
        }
      ]
    },
    {
      "cell_type": "code",
      "metadata": {
        "id": "MZaZ2HWZsNUi",
        "colab": {
          "base_uri": "https://localhost:8080/",
          "height": 545
        },
        "outputId": "186d5fda-902f-49c9-d487-534c5fa52812"
      },
      "source": [
        "model.save('cats_and_dogs_small_1.h5')\n",
        "\n",
        "import matplotlib.pyplot as plt\n",
        "\n",
        "acc = history.history['acc']\n",
        "val_acc = history.history['val_acc']\n",
        "loss = history.history['loss']\n",
        "val_loss = history.history['val_loss']\n",
        "\n",
        "epochs = range(1, len(acc) + 1)\n",
        "\n",
        "plt.plot(epochs, acc, 'bo', label='Training acc')\n",
        "plt.plot(epochs, val_acc, 'b', label='Validation acc')\n",
        "plt.title('Training and validation accuracy')\n",
        "plt.legend()\n",
        "\n",
        "plt.figure()\n",
        "\n",
        "plt.plot(epochs, loss, 'bo', label='Training loss')\n",
        "plt.plot(epochs, val_loss, 'b', label='Validation loss')\n",
        "plt.title('Training and validation loss')\n",
        "plt.legend()\n",
        "\n",
        "plt.show()"
      ],
      "execution_count": 12,
      "outputs": [
        {
          "output_type": "display_data",
          "data": {
            "image/png": "[encoded data removed]",
            "text/plain": [
              "<Figure size 432x288 with 1 Axes>"
            ]
          },
          "metadata": {
            "tags": [],
            "needs_background": "light"
          }
        },
        {
          "output_type": "display_data",
          "data": {
            "image/png": "[encoded data removed]",
            "text/plain": [
              "<Figure size 432x288 with 1 Axes>"
            ]
          },
          "metadata": {
            "tags": [],
            "needs_background": "light"
          }
        }
      ]
    },
    {
      "cell_type": "markdown",
      "metadata": {
        "id": "XKZmXmBcq_8-"
      },
      "source": [
        "## Convolutional Networks with Dropout\n",
        "\n",
        "![alt text](https://camo.githubusercontent.com/ee6fa1073247cd2c3d241300caf110d7a7541bc5/68747470733a2f2f63646e2d696d616765732d312e6d656469756d2e636f6d2f6d61782f3830302f312a4972644a355067684439596f4f7956415137334d4a772e676966)\n",
        "\n",
        "Ref: https://github.com/mneha4/Training-Neural-Nets---Guidelines"
      ]
    },
    {
      "cell_type": "markdown",
      "metadata": {
        "id": "BRdU5yrkUF_b"
      },
      "source": [
        "# Task 2:\n",
        "\n",
        "We have used Dropout to enhance the performance of the CNN model. Can you please use whatever you like to further enhance the performance from `val_acc: 0.7506`? "
      ]
    },
    {
      "cell_type": "code",
      "metadata": {
        "id": "wu3cqeYQrDeN"
      },
      "source": [
        "from keras.layers.normalization import BatchNormalization\n",
        "\n",
        "model = models.Sequential()\n",
        "model.add(layers.Conv2D(32, (3, 3), activation='relu',\n",
        "input_shape=(150, 150, 3)))\n",
        "model.add(layers.Activation('relu'))\n",
        "model.add(layers.MaxPooling2D((2, 2)))\n",
        "\n",
        "model.add(layers.Conv2D(64, (3, 3), activation='relu'))\n",
        "model.add(layers.MaxPooling2D((2, 2)))\n",
        "\n",
        "model.add(layers.Conv2D(128, (3, 3), activation='relu'))\n",
        "model.add(layers.MaxPooling2D((2, 2)))\n",
        "\n",
        "model.add(layers.Conv2D(256, (3, 3)))\n",
        "model.add(layers.BatchNormalization())\n",
        "model.add(layers.Activation('relu'))\n",
        "model.add(layers.MaxPooling2D((2, 2)))\n",
        "\n",
        "model.add(layers.Flatten())\n",
        "\n",
        "model.add(layers.Dropout(0.6))\n",
        "model.add(layers.Dense(512, activation='relu'))\n",
        "\n",
        "model.add(layers.Dense(1, activation='sigmoid'))\n",
        "\n",
        "model.compile(loss='binary_crossentropy',\n",
        "              optimizer='adam',\n",
        "              metrics=['accuracy'])"
      ],
      "execution_count": 13,
      "outputs": []
    },
    {
      "cell_type": "code",
      "metadata": {
        "id": "QSeLpvY0rH7F",
        "colab": {
          "base_uri": "https://localhost:8080/"
        },
        "outputId": "ade12a8d-dfee-4294-e01f-ed4b780fcd45"
      },
      "source": [
        "\n",
        "\n",
        "\n",
        "train_datagen = ImageDataGenerator(rescale=1./255,\n",
        "                                   rotation_range=20,\n",
        "                                   width_shift_range=0.1,\n",
        "                                   height_shift_range=0.1,\n",
        "                                   shear_range=0.1,\n",
        "                                   zoom_range=0.1,\n",
        "                                   horizontal_flip=True,)\n",
        "\n",
        "test_datagen = ImageDataGenerator(rescale=1./255)\n",
        "\n",
        "train_generator = train_datagen.flow_from_directory(train_dir,\n",
        "                                                    target_size=(150, 150),\n",
        "                                                    batch_size=8,\n",
        "                                                    class_mode='binary')\n",
        "\n",
        "validation_generator = test_datagen.flow_from_directory(validation_dir,\n",
        "                                                        target_size=(150, 150),\n",
        "                                                        batch_size=8,\n",
        "                                                        class_mode='binary')\n",
        "\n",
        "history = model.fit_generator(train_generator,\n",
        "                              steps_per_epoch=100,\n",
        "                              epochs=50,\n",
        "                              validation_data=validation_generator,\n",
        "                              validation_steps=50)"
      ],
      "execution_count": 14,
      "outputs": [
        {
          "output_type": "stream",
          "text": [
            "Found 2000 images belonging to 2 classes.\n",
            "Found 1000 images belonging to 2 classes.\n"
          ],
          "name": "stdout"
        },
        {
          "output_type": "stream",
          "text": [
            "/usr/local/lib/python3.7/dist-packages/tensorflow/python/keras/engine/training.py:1844: UserWarning: `Model.fit_generator` is deprecated and will be removed in a future version. Please use `Model.fit`, which supports generators.\n",
            "  warnings.warn('`Model.fit_generator` is deprecated and '\n"
          ],
          "name": "stderr"
        },
        {
          "output_type": "stream",
          "text": [
            "Epoch 1/50\n",
            "100/100 [==============================] - 11s 94ms/step - loss: 0.9460 - accuracy: 0.5044 - val_loss: 0.6947 - val_accuracy: 0.4800\n",
            "Epoch 2/50\n",
            "100/100 [==============================] - 9s 91ms/step - loss: 0.6701 - accuracy: 0.5773 - val_loss: 0.6861 - val_accuracy: 0.5775\n",
            "Epoch 3/50\n",
            "100/100 [==============================] - 9s 93ms/step - loss: 0.6735 - accuracy: 0.5935 - val_loss: 0.6784 - val_accuracy: 0.5025\n",
            "Epoch 4/50\n",
            "100/100 [==============================] - 9s 93ms/step - loss: 0.6552 - accuracy: 0.6171 - val_loss: 0.6836 - val_accuracy: 0.5275\n",
            "Epoch 5/50\n",
            "100/100 [==============================] - 9s 93ms/step - loss: 0.6548 - accuracy: 0.5959 - val_loss: 0.7670 - val_accuracy: 0.4700\n",
            "Epoch 6/50\n",
            "100/100 [==============================] - 9s 93ms/step - loss: 0.6776 - accuracy: 0.5488 - val_loss: 0.6756 - val_accuracy: 0.6000\n",
            "Epoch 7/50\n",
            "100/100 [==============================] - 9s 93ms/step - loss: 0.6790 - accuracy: 0.5601 - val_loss: 0.6888 - val_accuracy: 0.5700\n",
            "Epoch 8/50\n",
            "100/100 [==============================] - 9s 92ms/step - loss: 0.6691 - accuracy: 0.6370 - val_loss: 1.2708 - val_accuracy: 0.4975\n",
            "Epoch 9/50\n",
            "100/100 [==============================] - 9s 94ms/step - loss: 0.6741 - accuracy: 0.5704 - val_loss: 0.7291 - val_accuracy: 0.5225\n",
            "Epoch 10/50\n",
            "100/100 [==============================] - 9s 93ms/step - loss: 0.6450 - accuracy: 0.6300 - val_loss: 0.8365 - val_accuracy: 0.5200\n",
            "Epoch 11/50\n",
            "100/100 [==============================] - 9s 94ms/step - loss: 0.6656 - accuracy: 0.6102 - val_loss: 0.6087 - val_accuracy: 0.6650\n",
            "Epoch 12/50\n",
            "100/100 [==============================] - 9s 94ms/step - loss: 0.6248 - accuracy: 0.6366 - val_loss: 0.8769 - val_accuracy: 0.5250\n",
            "Epoch 13/50\n",
            "100/100 [==============================] - 9s 95ms/step - loss: 0.6894 - accuracy: 0.5666 - val_loss: 0.7289 - val_accuracy: 0.4825\n",
            "Epoch 14/50\n",
            "100/100 [==============================] - 9s 95ms/step - loss: 0.6448 - accuracy: 0.6330 - val_loss: 0.7427 - val_accuracy: 0.5900\n",
            "Epoch 15/50\n",
            "100/100 [==============================] - 9s 94ms/step - loss: 0.6402 - accuracy: 0.6115 - val_loss: 0.9280 - val_accuracy: 0.5400\n",
            "Epoch 16/50\n",
            "100/100 [==============================] - 9s 92ms/step - loss: 0.6238 - accuracy: 0.6731 - val_loss: 0.8774 - val_accuracy: 0.5650\n",
            "Epoch 17/50\n",
            "100/100 [==============================] - 9s 93ms/step - loss: 0.6586 - accuracy: 0.6145 - val_loss: 0.7721 - val_accuracy: 0.5675\n",
            "Epoch 18/50\n",
            "100/100 [==============================] - 9s 92ms/step - loss: 0.6485 - accuracy: 0.5838 - val_loss: 0.7902 - val_accuracy: 0.5225\n",
            "Epoch 19/50\n",
            "100/100 [==============================] - 9s 93ms/step - loss: 0.6252 - accuracy: 0.6669 - val_loss: 0.6328 - val_accuracy: 0.6275\n",
            "Epoch 20/50\n",
            "100/100 [==============================] - 9s 92ms/step - loss: 0.6025 - accuracy: 0.6821 - val_loss: 1.1825 - val_accuracy: 0.4875\n",
            "Epoch 21/50\n",
            "100/100 [==============================] - 9s 93ms/step - loss: 0.6283 - accuracy: 0.6420 - val_loss: 0.6778 - val_accuracy: 0.6175\n",
            "Epoch 22/50\n",
            "100/100 [==============================] - 9s 95ms/step - loss: 0.5870 - accuracy: 0.6875 - val_loss: 0.8418 - val_accuracy: 0.5125\n",
            "Epoch 23/50\n",
            "100/100 [==============================] - 9s 93ms/step - loss: 0.6068 - accuracy: 0.6594 - val_loss: 0.7498 - val_accuracy: 0.5575\n",
            "Epoch 24/50\n",
            "100/100 [==============================] - 9s 93ms/step - loss: 0.6148 - accuracy: 0.6619 - val_loss: 0.6449 - val_accuracy: 0.6400\n",
            "Epoch 25/50\n",
            "100/100 [==============================] - 9s 94ms/step - loss: 0.5714 - accuracy: 0.6960 - val_loss: 0.7771 - val_accuracy: 0.4725\n",
            "Epoch 26/50\n",
            "100/100 [==============================] - 9s 93ms/step - loss: 0.5850 - accuracy: 0.6823 - val_loss: 0.7966 - val_accuracy: 0.5950\n",
            "Epoch 27/50\n",
            "100/100 [==============================] - 9s 94ms/step - loss: 0.6051 - accuracy: 0.6569 - val_loss: 0.7594 - val_accuracy: 0.6125\n",
            "Epoch 28/50\n",
            "100/100 [==============================] - 10s 95ms/step - loss: 0.6107 - accuracy: 0.6967 - val_loss: 0.7172 - val_accuracy: 0.6975\n",
            "Epoch 29/50\n",
            "100/100 [==============================] - 9s 95ms/step - loss: 0.5850 - accuracy: 0.6969 - val_loss: 0.5669 - val_accuracy: 0.6950\n",
            "Epoch 30/50\n",
            "100/100 [==============================] - 9s 93ms/step - loss: 0.5916 - accuracy: 0.6916 - val_loss: 1.0966 - val_accuracy: 0.5400\n",
            "Epoch 31/50\n",
            "100/100 [==============================] - 10s 96ms/step - loss: 0.5714 - accuracy: 0.7027 - val_loss: 0.6687 - val_accuracy: 0.6975\n",
            "Epoch 32/50\n",
            "100/100 [==============================] - 10s 96ms/step - loss: 0.5925 - accuracy: 0.6542 - val_loss: 1.1787 - val_accuracy: 0.5325\n",
            "Epoch 33/50\n",
            "100/100 [==============================] - 9s 94ms/step - loss: 0.5780 - accuracy: 0.7274 - val_loss: 0.7455 - val_accuracy: 0.6025\n",
            "Epoch 34/50\n",
            "100/100 [==============================] - 10s 96ms/step - loss: 0.5319 - accuracy: 0.7452 - val_loss: 1.5470 - val_accuracy: 0.5175\n",
            "Epoch 35/50\n",
            "100/100 [==============================] - 10s 96ms/step - loss: 0.5125 - accuracy: 0.7443 - val_loss: 0.6567 - val_accuracy: 0.6875\n",
            "Epoch 36/50\n",
            "100/100 [==============================] - 10s 96ms/step - loss: 0.5774 - accuracy: 0.7039 - val_loss: 0.5696 - val_accuracy: 0.6700\n",
            "Epoch 37/50\n",
            "100/100 [==============================] - 10s 96ms/step - loss: 0.5351 - accuracy: 0.7165 - val_loss: 0.8892 - val_accuracy: 0.5950\n",
            "Epoch 38/50\n",
            "100/100 [==============================] - 10s 95ms/step - loss: 0.5648 - accuracy: 0.6993 - val_loss: 0.6534 - val_accuracy: 0.7025\n",
            "Epoch 39/50\n",
            "100/100 [==============================] - 10s 95ms/step - loss: 0.5537 - accuracy: 0.7155 - val_loss: 0.7878 - val_accuracy: 0.6175\n",
            "Epoch 40/50\n",
            "100/100 [==============================] - 10s 95ms/step - loss: 0.6567 - accuracy: 0.6301 - val_loss: 0.5891 - val_accuracy: 0.6750\n",
            "Epoch 41/50\n",
            "100/100 [==============================] - 9s 95ms/step - loss: 0.5591 - accuracy: 0.7008 - val_loss: 0.5860 - val_accuracy: 0.6650\n",
            "Epoch 42/50\n",
            "100/100 [==============================] - 10s 96ms/step - loss: 0.5433 - accuracy: 0.7396 - val_loss: 0.7347 - val_accuracy: 0.5700\n",
            "Epoch 43/50\n",
            "100/100 [==============================] - 10s 97ms/step - loss: 0.5095 - accuracy: 0.7688 - val_loss: 0.5039 - val_accuracy: 0.7575\n",
            "Epoch 44/50\n",
            "100/100 [==============================] - 10s 97ms/step - loss: 0.4944 - accuracy: 0.7510 - val_loss: 0.6305 - val_accuracy: 0.6600\n",
            "Epoch 45/50\n",
            "100/100 [==============================] - 10s 95ms/step - loss: 0.4933 - accuracy: 0.7482 - val_loss: 0.6547 - val_accuracy: 0.6300\n",
            "Epoch 46/50\n",
            "100/100 [==============================] - 10s 96ms/step - loss: 0.5417 - accuracy: 0.7245 - val_loss: 0.6904 - val_accuracy: 0.5675\n",
            "Epoch 47/50\n",
            "100/100 [==============================] - 10s 96ms/step - loss: 0.5496 - accuracy: 0.7369 - val_loss: 0.6394 - val_accuracy: 0.6975\n",
            "Epoch 48/50\n",
            "100/100 [==============================] - 10s 96ms/step - loss: 0.5132 - accuracy: 0.7482 - val_loss: 0.5034 - val_accuracy: 0.7400\n",
            "Epoch 49/50\n",
            "100/100 [==============================] - 10s 97ms/step - loss: 0.4966 - accuracy: 0.7799 - val_loss: 0.6094 - val_accuracy: 0.6675\n",
            "Epoch 50/50\n",
            "100/100 [==============================] - 10s 97ms/step - loss: 0.4934 - accuracy: 0.7451 - val_loss: 0.5684 - val_accuracy: 0.7150\n"
          ],
          "name": "stdout"
        }
      ]
    },
    {
      "cell_type": "code",
      "metadata": {
        "id": "DzpPZZAAOk-j",
        "colab": {
          "base_uri": "https://localhost:8080/",
          "height": 545
        },
        "outputId": "44afbd51-f401-44e4-8351-2f80327fd248"
      },
      "source": [
        "import matplotlib.pyplot as plt\n",
        "\n",
        "acc = history.history['accuracy']\n",
        "val_acc = history.history['val_accuracy']\n",
        "loss = history.history['loss']\n",
        "val_loss = history.history['val_loss']\n",
        "\n",
        "epochs = range(1, len(acc) + 1)\n",
        "\n",
        "plt.plot(epochs, acc, 'bo', label='Training acc')\n",
        "plt.plot(epochs, val_acc, 'b', label='Validation acc')\n",
        "plt.title('Training and validation accuracy')\n",
        "plt.legend()\n",
        "\n",
        "plt.figure()\n",
        "\n",
        "plt.plot(epochs, loss, 'bo', label='Training loss')\n",
        "plt.plot(epochs, val_loss, 'b', label='Validation loss')\n",
        "plt.title('Training and validation loss')\n",
        "plt.legend()\n",
        "\n",
        "plt.show()"
      ],
      "execution_count": 17,
      "outputs": [
        {
          "output_type": "display_data",
          "data": {
            "image/png": "[encoded data removed]",
            "text/plain": [
              "<Figure size 432x288 with 1 Axes>"
            ]
          },
          "metadata": {
            "tags": [],
            "needs_background": "light"
          }
        },
        {
          "output_type": "display_data",
          "data": {
            "image/png": "[encoded data removed]",
            "text/plain": [
              "<Figure size 432x288 with 1 Axes>"
            ]
          },
          "metadata": {
            "tags": [],
            "needs_background": "light"
          }
        }
      ]
    },
    {
      "cell_type": "markdown",
      "metadata": {
        "id": "aACgnx8gdftv"
      },
      "source": [
        "Best Val accuracy 0.7575"
      ]
    }
  ]
}