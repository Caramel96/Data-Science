{
  "nbformat": 4,
  "nbformat_minor": 0,
  "metadata": {
    "colab": {
      "name": "My_reccomender_movies.ipynb",
      "provenance": [],
      "collapsed_sections": [],
      "authorship_tag": "ABX9TyPYFjjlfcODwmPp+286Gmmy",
      "include_colab_link": true
    },
    "kernelspec": {
      "name": "python3",
      "display_name": "Python 3"
    }
  },
  "cells": [
    {
      "cell_type": "markdown",
      "metadata": {
        "id": "view-in-github",
        "colab_type": "text"
      },
      "source": [
        "<a href=\"https://colab.research.google.com/github/Caramel96/Samuel_BuckbyCE888/blob/main/lab_4%20/%20My_reccomender_movies.ipynb\" target=\"_parent\"><img src=\"https://colab.research.google.com/assets/colab-badge.svg\" alt=\"Open In Colab\"/></a>"
      ]
    },
    {
      "cell_type": "code",
      "metadata": {
        "id": "8HUgjeosOeDQ"
      },
      "source": [
        "import pandas as pd\r\n",
        "import numpy as np\r\n",
        "import operator"
      ],
      "execution_count": 2,
      "outputs": []
    },
    {
      "cell_type": "code",
      "metadata": {
        "id": "EZAM6mSrOrAV"
      },
      "source": [
        "df_xls = pd.ExcelFile('https://github.com/albanda/CE888/blob/master/lab4-recommender/movies_latent_factors.xlsx?raw=true')"
      ],
      "execution_count": 3,
      "outputs": []
    },
    {
      "cell_type": "code",
      "metadata": {
        "colab": {
          "base_uri": "https://localhost:8080/"
        },
        "id": "rm7H5zDQO5bt",
        "outputId": "7b44bda6-cadc-4cd8-d7ea-9921b671714d"
      },
      "source": [
        "df_xls.sheet_names"
      ],
      "execution_count": 4,
      "outputs": [
        {
          "output_type": "execute_result",
          "data": {
            "text/plain": [
              "['Items', 'Users']"
            ]
          },
          "metadata": {
            "tags": []
          },
          "execution_count": 4
        }
      ]
    },
    {
      "cell_type": "code",
      "metadata": {
        "id": "KvZ1Y-Q1O8kr"
      },
      "source": [
        "df_items = pd.read_excel('https://github.com/albanda/CE888/blob/master/lab4-recommender/movies_latent_factors.xlsx?raw=true')\r\n",
        "df_users = pd.read_excel('https://github.com/albanda/CE888/blob/master/lab4-recommender/movies_latent_factors.xlsx?raw=true', sheet_name=1)"
      ],
      "execution_count": 28,
      "outputs": []
    },
    {
      "cell_type": "code",
      "metadata": {
        "colab": {
          "base_uri": "https://localhost:8080/",
          "height": 370
        },
        "id": "qrl7tUeGPVc3",
        "outputId": "ef07cbb3-3c36-41ea-e0bd-f75d3bf97a0c"
      },
      "source": [
        "df_items.head()"
      ],
      "execution_count": 29,
      "outputs": [
        {
          "output_type": "execute_result",
          "data": {
            "text/html": [
              "<div>\n",
              "<style scoped>\n",
              "    .dataframe tbody tr th:only-of-type {\n",
              "        vertical-align: middle;\n",
              "    }\n",
              "\n",
              "    .dataframe tbody tr th {\n",
              "        vertical-align: top;\n",
              "    }\n",
              "\n",
              "    .dataframe thead th {\n",
              "        text-align: right;\n",
              "    }\n",
              "</style>\n",
              "<table border=\"1\" class=\"dataframe\">\n",
              "  <thead>\n",
              "    <tr style=\"text-align: right;\">\n",
              "      <th></th>\n",
              "      <th>Movie ID</th>\n",
              "      <th>Title</th>\n",
              "      <th>Factor1</th>\n",
              "      <th>Factor2</th>\n",
              "      <th>Factor3</th>\n",
              "      <th>Factor4</th>\n",
              "      <th>Factor5</th>\n",
              "      <th>Factor6</th>\n",
              "      <th>Factor7</th>\n",
              "      <th>Factor8</th>\n",
              "      <th>Factor9</th>\n",
              "      <th>Factor10</th>\n",
              "      <th>Factor11</th>\n",
              "      <th>Factor12</th>\n",
              "      <th>Factor13</th>\n",
              "      <th>Factor14</th>\n",
              "      <th>Factor15</th>\n",
              "    </tr>\n",
              "  </thead>\n",
              "  <tbody>\n",
              "    <tr>\n",
              "      <th>0</th>\n",
              "      <td>11</td>\n",
              "      <td>Star Wars: Episode IV - A New Hope (1977)</td>\n",
              "      <td>-1.521848</td>\n",
              "      <td>-1.038507</td>\n",
              "      <td>2.027269</td>\n",
              "      <td>0.247933</td>\n",
              "      <td>-0.594548</td>\n",
              "      <td>2.513260</td>\n",
              "      <td>-1.848910</td>\n",
              "      <td>0.476710</td>\n",
              "      <td>-0.224146</td>\n",
              "      <td>-0.760681</td>\n",
              "      <td>-0.973915</td>\n",
              "      <td>0.862379</td>\n",
              "      <td>0.403861</td>\n",
              "      <td>1.129616</td>\n",
              "      <td>-0.248806</td>\n",
              "    </tr>\n",
              "    <tr>\n",
              "      <th>1</th>\n",
              "      <td>12</td>\n",
              "      <td>Finding Nemo (2003)</td>\n",
              "      <td>-0.342185</td>\n",
              "      <td>-0.296586</td>\n",
              "      <td>-0.385962</td>\n",
              "      <td>2.443297</td>\n",
              "      <td>-1.097015</td>\n",
              "      <td>-0.619465</td>\n",
              "      <td>0.572887</td>\n",
              "      <td>0.329516</td>\n",
              "      <td>-0.712228</td>\n",
              "      <td>0.323554</td>\n",
              "      <td>-0.561948</td>\n",
              "      <td>-0.142405</td>\n",
              "      <td>-0.564415</td>\n",
              "      <td>0.506876</td>\n",
              "      <td>1.274993</td>\n",
              "    </tr>\n",
              "    <tr>\n",
              "      <th>2</th>\n",
              "      <td>13</td>\n",
              "      <td>Forrest Gump (1994)</td>\n",
              "      <td>-2.240888</td>\n",
              "      <td>-0.438815</td>\n",
              "      <td>-2.275177</td>\n",
              "      <td>0.614548</td>\n",
              "      <td>0.904469</td>\n",
              "      <td>0.711919</td>\n",
              "      <td>-0.420876</td>\n",
              "      <td>1.302036</td>\n",
              "      <td>-0.868418</td>\n",
              "      <td>-0.160122</td>\n",
              "      <td>0.633667</td>\n",
              "      <td>0.133138</td>\n",
              "      <td>-0.330276</td>\n",
              "      <td>-2.209004</td>\n",
              "      <td>-0.419092</td>\n",
              "    </tr>\n",
              "    <tr>\n",
              "      <th>3</th>\n",
              "      <td>14</td>\n",
              "      <td>American Beauty (1999)</td>\n",
              "      <td>-0.634531</td>\n",
              "      <td>2.186059</td>\n",
              "      <td>-0.066681</td>\n",
              "      <td>0.086197</td>\n",
              "      <td>0.517558</td>\n",
              "      <td>-0.185319</td>\n",
              "      <td>-0.412352</td>\n",
              "      <td>0.063841</td>\n",
              "      <td>0.075937</td>\n",
              "      <td>-0.577682</td>\n",
              "      <td>0.526803</td>\n",
              "      <td>-1.465557</td>\n",
              "      <td>-0.819682</td>\n",
              "      <td>0.549010</td>\n",
              "      <td>-0.681191</td>\n",
              "    </tr>\n",
              "    <tr>\n",
              "      <th>4</th>\n",
              "      <td>22</td>\n",
              "      <td>Pirates of the Caribbean: The Curse of the Bla...</td>\n",
              "      <td>0.517348</td>\n",
              "      <td>-1.456763</td>\n",
              "      <td>0.369161</td>\n",
              "      <td>0.073903</td>\n",
              "      <td>-0.098332</td>\n",
              "      <td>-0.594722</td>\n",
              "      <td>0.828888</td>\n",
              "      <td>0.033626</td>\n",
              "      <td>-0.707414</td>\n",
              "      <td>0.717877</td>\n",
              "      <td>1.394326</td>\n",
              "      <td>-0.786986</td>\n",
              "      <td>1.429191</td>\n",
              "      <td>0.855746</td>\n",
              "      <td>-2.292566</td>\n",
              "    </tr>\n",
              "  </tbody>\n",
              "</table>\n",
              "</div>"
            ],
            "text/plain": [
              "   Movie ID  ...  Factor15\n",
              "0        11  ... -0.248806\n",
              "1        12  ...  1.274993\n",
              "2        13  ... -0.419092\n",
              "3        14  ... -0.681191\n",
              "4        22  ... -2.292566\n",
              "\n",
              "[5 rows x 17 columns]"
            ]
          },
          "metadata": {
            "tags": []
          },
          "execution_count": 29
        }
      ]
    },
    {
      "cell_type": "code",
      "metadata": {
        "colab": {
          "base_uri": "https://localhost:8080/",
          "height": 201
        },
        "id": "zpFTeZNvPcEN",
        "outputId": "8a81bd25-0cfd-478e-aa29-12e410939291"
      },
      "source": [
        "df_users.head()"
      ],
      "execution_count": 30,
      "outputs": [
        {
          "output_type": "execute_result",
          "data": {
            "text/html": [
              "<div>\n",
              "<style scoped>\n",
              "    .dataframe tbody tr th:only-of-type {\n",
              "        vertical-align: middle;\n",
              "    }\n",
              "\n",
              "    .dataframe tbody tr th {\n",
              "        vertical-align: top;\n",
              "    }\n",
              "\n",
              "    .dataframe thead th {\n",
              "        text-align: right;\n",
              "    }\n",
              "</style>\n",
              "<table border=\"1\" class=\"dataframe\">\n",
              "  <thead>\n",
              "    <tr style=\"text-align: right;\">\n",
              "      <th></th>\n",
              "      <th>User</th>\n",
              "      <th>Factor1</th>\n",
              "      <th>Factor2</th>\n",
              "      <th>Factor3</th>\n",
              "      <th>Factor4</th>\n",
              "      <th>Factor5</th>\n",
              "      <th>Factor6</th>\n",
              "      <th>Factor7</th>\n",
              "      <th>Factor8</th>\n",
              "      <th>Factor9</th>\n",
              "      <th>Factor10</th>\n",
              "      <th>Factor11</th>\n",
              "      <th>Factor12</th>\n",
              "      <th>Factor13</th>\n",
              "      <th>Factor14</th>\n",
              "      <th>Factor15</th>\n",
              "    </tr>\n",
              "  </thead>\n",
              "  <tbody>\n",
              "    <tr>\n",
              "      <th>0</th>\n",
              "      <td>4768</td>\n",
              "      <td>-0.204024</td>\n",
              "      <td>0.161079</td>\n",
              "      <td>-0.090447</td>\n",
              "      <td>0.138495</td>\n",
              "      <td>-0.162934</td>\n",
              "      <td>0.163894</td>\n",
              "      <td>0.051502</td>\n",
              "      <td>-0.088582</td>\n",
              "      <td>0.126829</td>\n",
              "      <td>0.065967</td>\n",
              "      <td>0.085008</td>\n",
              "      <td>0.355404</td>\n",
              "      <td>0.007108</td>\n",
              "      <td>-0.118663</td>\n",
              "      <td>-0.039125</td>\n",
              "    </tr>\n",
              "    <tr>\n",
              "      <th>1</th>\n",
              "      <td>156</td>\n",
              "      <td>-0.189652</td>\n",
              "      <td>-0.178979</td>\n",
              "      <td>-0.091490</td>\n",
              "      <td>-0.000823</td>\n",
              "      <td>-0.032646</td>\n",
              "      <td>0.177209</td>\n",
              "      <td>-0.098123</td>\n",
              "      <td>-0.068283</td>\n",
              "      <td>-0.011575</td>\n",
              "      <td>0.120866</td>\n",
              "      <td>-0.009931</td>\n",
              "      <td>-0.048606</td>\n",
              "      <td>0.045916</td>\n",
              "      <td>0.113671</td>\n",
              "      <td>0.179873</td>\n",
              "    </tr>\n",
              "    <tr>\n",
              "      <th>2</th>\n",
              "      <td>5323</td>\n",
              "      <td>-0.115308</td>\n",
              "      <td>-0.090886</td>\n",
              "      <td>-0.053129</td>\n",
              "      <td>0.018472</td>\n",
              "      <td>-0.068081</td>\n",
              "      <td>-0.004828</td>\n",
              "      <td>0.113005</td>\n",
              "      <td>0.102107</td>\n",
              "      <td>0.034758</td>\n",
              "      <td>0.000693</td>\n",
              "      <td>-0.073712</td>\n",
              "      <td>-0.019460</td>\n",
              "      <td>0.108372</td>\n",
              "      <td>0.054471</td>\n",
              "      <td>-0.109552</td>\n",
              "    </tr>\n",
              "    <tr>\n",
              "      <th>3</th>\n",
              "      <td>174</td>\n",
              "      <td>-0.227462</td>\n",
              "      <td>-0.272532</td>\n",
              "      <td>-0.017231</td>\n",
              "      <td>0.054324</td>\n",
              "      <td>0.214755</td>\n",
              "      <td>-0.072639</td>\n",
              "      <td>-0.033122</td>\n",
              "      <td>-0.086508</td>\n",
              "      <td>-0.131479</td>\n",
              "      <td>0.180403</td>\n",
              "      <td>0.095890</td>\n",
              "      <td>-0.082396</td>\n",
              "      <td>0.036767</td>\n",
              "      <td>-0.165438</td>\n",
              "      <td>0.050692</td>\n",
              "    </tr>\n",
              "    <tr>\n",
              "      <th>4</th>\n",
              "      <td>4529</td>\n",
              "      <td>-0.014616</td>\n",
              "      <td>-0.102218</td>\n",
              "      <td>-0.107935</td>\n",
              "      <td>0.155784</td>\n",
              "      <td>-0.123362</td>\n",
              "      <td>-0.118228</td>\n",
              "      <td>-0.013549</td>\n",
              "      <td>-0.050622</td>\n",
              "      <td>0.058698</td>\n",
              "      <td>-0.159600</td>\n",
              "      <td>-0.142382</td>\n",
              "      <td>-0.132836</td>\n",
              "      <td>-0.039897</td>\n",
              "      <td>0.129063</td>\n",
              "      <td>0.102669</td>\n",
              "    </tr>\n",
              "  </tbody>\n",
              "</table>\n",
              "</div>"
            ],
            "text/plain": [
              "   User   Factor1   Factor2   Factor3  ...  Factor12  Factor13  Factor14  Factor15\n",
              "0  4768 -0.204024  0.161079 -0.090447  ...  0.355404  0.007108 -0.118663 -0.039125\n",
              "1   156 -0.189652 -0.178979 -0.091490  ... -0.048606  0.045916  0.113671  0.179873\n",
              "2  5323 -0.115308 -0.090886 -0.053129  ... -0.019460  0.108372  0.054471 -0.109552\n",
              "3   174 -0.227462 -0.272532 -0.017231  ... -0.082396  0.036767 -0.165438  0.050692\n",
              "4  4529 -0.014616 -0.102218 -0.107935  ... -0.132836 -0.039897  0.129063  0.102669\n",
              "\n",
              "[5 rows x 16 columns]"
            ]
          },
          "metadata": {
            "tags": []
          },
          "execution_count": 30
        }
      ]
    },
    {
      "cell_type": "code",
      "metadata": {
        "id": "yrt5xMHzXdTs"
      },
      "source": [
        "df_users.set_index('User', inplace=True)"
      ],
      "execution_count": 31,
      "outputs": []
    },
    {
      "cell_type": "code",
      "metadata": {
        "id": "xi0zLAnZXiLq"
      },
      "source": [
        "df_items.set_index('Movie ID', inplace=True)"
      ],
      "execution_count": 32,
      "outputs": []
    },
    {
      "cell_type": "code",
      "metadata": {
        "colab": {
          "base_uri": "https://localhost:8080/"
        },
        "id": "qRDhR2eHVYmE",
        "outputId": "f82d628e-e529-4522-b68f-025dc4e210cd"
      },
      "source": [
        "df_items.loc[5503, 'Factor15']"
      ],
      "execution_count": 42,
      "outputs": [
        {
          "output_type": "execute_result",
          "data": {
            "text/plain": [
              "-0.01978813701887213"
            ]
          },
          "metadata": {
            "tags": []
          },
          "execution_count": 42
        }
      ]
    },
    {
      "cell_type": "code",
      "metadata": {
        "colab": {
          "base_uri": "https://localhost:8080/",
          "height": 143
        },
        "id": "NkX7PXRFPecs",
        "outputId": "41eeee90-97fe-4ecf-b2df-0897bae7e1a5"
      },
      "source": [
        "df_items[df_items['Factor15'] == df_items['Factor15'].max()]"
      ],
      "execution_count": 35,
      "outputs": [
        {
          "output_type": "execute_result",
          "data": {
            "text/html": [
              "<div>\n",
              "<style scoped>\n",
              "    .dataframe tbody tr th:only-of-type {\n",
              "        vertical-align: middle;\n",
              "    }\n",
              "\n",
              "    .dataframe tbody tr th {\n",
              "        vertical-align: top;\n",
              "    }\n",
              "\n",
              "    .dataframe thead th {\n",
              "        text-align: right;\n",
              "    }\n",
              "</style>\n",
              "<table border=\"1\" class=\"dataframe\">\n",
              "  <thead>\n",
              "    <tr style=\"text-align: right;\">\n",
              "      <th></th>\n",
              "      <th>Title</th>\n",
              "      <th>Factor1</th>\n",
              "      <th>Factor2</th>\n",
              "      <th>Factor3</th>\n",
              "      <th>Factor4</th>\n",
              "      <th>Factor5</th>\n",
              "      <th>Factor6</th>\n",
              "      <th>Factor7</th>\n",
              "      <th>Factor8</th>\n",
              "      <th>Factor9</th>\n",
              "      <th>Factor10</th>\n",
              "      <th>Factor11</th>\n",
              "      <th>Factor12</th>\n",
              "      <th>Factor13</th>\n",
              "      <th>Factor14</th>\n",
              "      <th>Factor15</th>\n",
              "    </tr>\n",
              "    <tr>\n",
              "      <th>Movie ID</th>\n",
              "      <th></th>\n",
              "      <th></th>\n",
              "      <th></th>\n",
              "      <th></th>\n",
              "      <th></th>\n",
              "      <th></th>\n",
              "      <th></th>\n",
              "      <th></th>\n",
              "      <th></th>\n",
              "      <th></th>\n",
              "      <th></th>\n",
              "      <th></th>\n",
              "      <th></th>\n",
              "      <th></th>\n",
              "      <th></th>\n",
              "      <th></th>\n",
              "    </tr>\n",
              "  </thead>\n",
              "  <tbody>\n",
              "    <tr>\n",
              "      <th>604</th>\n",
              "      <td>The Matrix Reloaded (2003)</td>\n",
              "      <td>0.503414</td>\n",
              "      <td>-2.00445</td>\n",
              "      <td>0.001084</td>\n",
              "      <td>-2.255945</td>\n",
              "      <td>0.882547</td>\n",
              "      <td>-0.1886</td>\n",
              "      <td>-0.235434</td>\n",
              "      <td>0.570028</td>\n",
              "      <td>-3.492897</td>\n",
              "      <td>-0.312214</td>\n",
              "      <td>0.902742</td>\n",
              "      <td>-2.063318</td>\n",
              "      <td>-1.895101</td>\n",
              "      <td>0.748458</td>\n",
              "      <td>2.120907</td>\n",
              "    </tr>\n",
              "  </tbody>\n",
              "</table>\n",
              "</div>"
            ],
            "text/plain": [
              "                               Title   Factor1  ...  Factor14  Factor15\n",
              "Movie ID                                        ...                    \n",
              "604       The Matrix Reloaded (2003)  0.503414  ...  0.748458  2.120907\n",
              "\n",
              "[1 rows x 16 columns]"
            ]
          },
          "metadata": {
            "tags": []
          },
          "execution_count": 35
        }
      ]
    },
    {
      "cell_type": "code",
      "metadata": {
        "id": "zCxLjD7jVG43"
      },
      "source": [
        "items_latent = df_items.drop('Title', axis=1).values"
      ],
      "execution_count": 33,
      "outputs": []
    },
    {
      "cell_type": "code",
      "metadata": {
        "id": "my4C40yyVKO6"
      },
      "source": [
        "user_latent = df_users.values"
      ],
      "execution_count": 36,
      "outputs": []
    },
    {
      "cell_type": "code",
      "metadata": {
        "id": "MG8a0vIUVeEr"
      },
      "source": [
        "def predict_movie_rating(user, movie):\r\n",
        "  user_arr = df_users.loc[user].values\r\n",
        "  movie_arr = df_items.loc[movie].drop('Title').values\r\n",
        "  return user_arr.dot(movie_arr)"
      ],
      "execution_count": 37,
      "outputs": []
    },
    {
      "cell_type": "code",
      "metadata": {
        "id": "rnoc-kY9VjAy"
      },
      "source": [
        "def top_n_recommendation(user, n):\r\n",
        "  pred = {}\r\n",
        "  for movie in df_items.index:\r\n",
        "    pred[movie] = predict_movie_rating(user, movie)\r\n",
        "  pred = dict(sorted(pred.items(), key=lambda kv: kv[1], reverse=True))\r\n",
        "  movies = list(pred.keys())\r\n",
        "  return movies[:n]"
      ],
      "execution_count": 38,
      "outputs": []
    },
    {
      "cell_type": "code",
      "metadata": {
        "colab": {
          "base_uri": "https://localhost:8080/"
        },
        "id": "tDDkc-4YXy8I",
        "outputId": "811c42c5-82f8-458a-a066-eb8a717ca288"
      },
      "source": [
        "predict_movie_rating(4433, 2502)"
      ],
      "execution_count": 40,
      "outputs": [
        {
          "output_type": "execute_result",
          "data": {
            "text/plain": [
              "1.4561133282190488"
            ]
          },
          "metadata": {
            "tags": []
          },
          "execution_count": 40
        }
      ]
    },
    {
      "cell_type": "code",
      "metadata": {
        "colab": {
          "base_uri": "https://localhost:8080/"
        },
        "id": "SRqi5IiRVl4V",
        "outputId": "effc51cf-fd75-4973-839c-70d2e6e36cac"
      },
      "source": [
        "predict_movie_rating(525, 640)\r\n"
      ],
      "execution_count": 39,
      "outputs": [
        {
          "output_type": "execute_result",
          "data": {
            "text/plain": [
              "0.15087936024954365"
            ]
          },
          "metadata": {
            "tags": []
          },
          "execution_count": 39
        }
      ]
    },
    {
      "cell_type": "code",
      "metadata": {
        "colab": {
          "base_uri": "https://localhost:8080/"
        },
        "id": "6MBQurpZYvfb",
        "outputId": "d0285cae-6427-465e-b47c-696b30013bbc"
      },
      "source": [
        "top_n_recommendation(525, 3)"
      ],
      "execution_count": 43,
      "outputs": [
        {
          "output_type": "execute_result",
          "data": {
            "text/plain": [
              "[98, 597, 453]"
            ]
          },
          "metadata": {
            "tags": []
          },
          "execution_count": 43
        }
      ]
    },
    {
      "cell_type": "code",
      "metadata": {
        "colab": {
          "base_uri": "https://localhost:8080/"
        },
        "id": "fEl2WdaWY7lZ",
        "outputId": "20cc5cb5-d695-440c-b58b-5d80020db1c9"
      },
      "source": [
        "top_n_recommendation(3048, 2)"
      ],
      "execution_count": 45,
      "outputs": [
        {
          "output_type": "execute_result",
          "data": {
            "text/plain": [
              "[24, 603]"
            ]
          },
          "metadata": {
            "tags": []
          },
          "execution_count": 45
        }
      ]
    }
  ]
}